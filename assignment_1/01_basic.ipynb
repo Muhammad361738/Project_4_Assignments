{
 "cells": [
  {
   "cell_type": "markdown",
   "metadata": {},
   "source": [
    "## 00_joke_bot"
   ]
  },
  {
   "cell_type": "code",
   "execution_count": 12,
   "metadata": {},
   "outputs": [
    {
     "name": "stdout",
     "output_type": "stream",
     "text": [
      "Here is a joke for you! Panaversity GPT - Sophia is heading out to the grocery store. A programmer tells her: get a liter of milk, and if they have eggs, get 12. Sophia returns with 13 liters of milk. The programmer asks why and Sophia replies: 'because they had eggs'\n"
     ]
    }
   ],
   "source": [
    "# Constants\n",
    "PROMPT = \"What do you want? \"\n",
    "JOKE = (\"Here is a joke for you! Panaversity GPT - Sophia is heading out to the grocery store. \"\n",
    "        \"A programmer tells her: get a liter of milk, and if they have eggs, get 12. \"\n",
    "        \"Sophia returns with 13 liters of milk. The programmer asks why and Sophia replies: \"\n",
    "        \"'because they had eggs'\")\n",
    "SORRY = \"Sorry I only tell jokes\"\n",
    "\n",
    "# Ask the user\n",
    "user_input = input(PROMPT).lower()\n",
    "\n",
    "# Respond accordingly\n",
    "if user_input == \"joke\":\n",
    "    print(JOKE)\n",
    "else:\n",
    "    print(SORRY)\n"
   ]
  },
  {
   "cell_type": "markdown",
   "metadata": {},
   "source": [
    "## 01_double_it"
   ]
  },
  {
   "cell_type": "code",
   "execution_count": 7,
   "metadata": {},
   "outputs": [
    {
     "name": "stdout",
     "output_type": "stream",
     "text": [
      "2 double is 2\n",
      "2 double is 4\n",
      "4 double is 8\n",
      "8 double is 16\n",
      "16 double is 32\n",
      "32 double is 64\n",
      "64 double is 128\n"
     ]
    }
   ],
   "source": [
    "max = 100\n",
    "user_inp = int(input(\"Enter the number : \"))\n",
    "current : int = 1\n",
    "\n",
    "while current < max:\n",
    "    current *= 2 \n",
    "    print(f\"{user_inp} double is {current}\")\n",
    "    user_inp = current\n",
    "    \n",
    "    "
   ]
  },
  {
   "cell_type": "markdown",
   "metadata": {},
   "source": [
    "## 02_lift_off "
   ]
  },
  {
   "cell_type": "code",
   "execution_count": 13,
   "metadata": {},
   "outputs": [
    {
     "name": "stdout",
     "output_type": "stream",
     "text": [
      "time of in 10 seconds\n",
      "time of in 9 seconds\n",
      "time of in 8 seconds\n",
      "time of in 7 seconds\n",
      "time of in 6 seconds\n",
      "time of in 5 seconds\n",
      "time of in 4 seconds\n",
      "time of in 3 seconds\n",
      "time of in 2 seconds\n",
      "time of in 1 seconds\n",
      "lift off\n"
     ]
    }
   ],
   "source": [
    "import time \n",
    "\n",
    "user_time = int(input(\"Enter the number : \"))\n",
    "\n",
    "for i in range(user_time):\n",
    "    print(f\"time of in {user_time} seconds\")\n",
    "    user_time = user_time -1\n",
    "\n",
    "    time.sleep(1)\n",
    "    if user_time == 0:\n",
    "        print(\"lift off\")"
   ]
  },
  {
   "cell_type": "markdown",
   "metadata": {},
   "source": [
    "## 03_guess_number "
   ]
  },
  {
   "cell_type": "code",
   "execution_count": null,
   "metadata": {},
   "outputs": [
    {
     "name": "stdout",
     "output_type": "stream",
     "text": [
      "I generate the number between 1 to 99\n",
      "Too high \n",
      "\n",
      "Too high \n",
      "\n",
      "Too high \n",
      "\n",
      "Too low\n",
      "\n",
      "Too low\n",
      "\n",
      "Too low\n",
      "\n",
      "Conragulation you guess the right number :  38\n"
     ]
    }
   ],
   "source": [
    "import random \n",
    "\n",
    "comp_mun = random.randint(1,99)\n",
    "print(\"I generate the number between 1 to 99\")\n",
    "\n",
    "user_num = int(input(\"Enter the guess : \"))\n",
    "\n",
    "while user_num != comp_mun :\n",
    "    if user_num < comp_mun :\n",
    "        print(\"Too low\",user_num)\n",
    "    else:\n",
    "        print(\"Too high \",user_num)\n",
    "    print()    \n",
    "    user_num=int(input(\"Enter the guess : \"))\n",
    "\n",
    "        \n",
    "print(\"Conragulation you guess the right number : \",user_num)\n",
    "        "
   ]
  },
  {
   "cell_type": "markdown",
   "metadata": {},
   "source": [
    "## 04_random_numbers"
   ]
  },
  {
   "cell_type": "code",
   "execution_count": 6,
   "metadata": {},
   "outputs": [
    {
     "name": "stdout",
     "output_type": "stream",
     "text": [
      "9\n",
      "3\n",
      "37\n",
      "89\n",
      "5\n",
      "96\n",
      "82\n",
      "5\n",
      "64\n",
      "40\n"
     ]
    }
   ],
   "source": [
    "import random \n",
    "\n",
    "n_num = 10\n",
    "min = 1\n",
    "max = 100\n",
    "for i in range(n_num):\n",
    "    random_num = random.randint(min,max)\n",
    "    print(random_num)"
   ]
  },
  {
   "cell_type": "code",
   "execution_count": null,
   "metadata": {},
   "outputs": [],
   "source": []
  }
 ],
 "metadata": {
  "kernelspec": {
   "display_name": "Python 3",
   "language": "python",
   "name": "python3"
  },
  "language_info": {
   "codemirror_mode": {
    "name": "ipython",
    "version": 3
   },
   "file_extension": ".py",
   "mimetype": "text/x-python",
   "name": "python",
   "nbconvert_exporter": "python",
   "pygments_lexer": "ipython3",
   "version": "3.13.1"
  }
 },
 "nbformat": 4,
 "nbformat_minor": 2
}
