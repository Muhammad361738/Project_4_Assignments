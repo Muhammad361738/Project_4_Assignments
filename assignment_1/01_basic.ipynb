{
 "cells": [
  {
   "cell_type": "markdown",
   "metadata": {},
   "source": [
    "## 00_joke_bot"
   ]
  },
  {
   "cell_type": "code",
   "execution_count": 12,
   "metadata": {},
   "outputs": [
    {
     "name": "stdout",
     "output_type": "stream",
     "text": [
      "Here is a joke for you! Panaversity GPT - Sophia is heading out to the grocery store. A programmer tells her: get a liter of milk, and if they have eggs, get 12. Sophia returns with 13 liters of milk. The programmer asks why and Sophia replies: 'because they had eggs'\n"
     ]
    }
   ],
   "source": [
    "# Constants\n",
    "PROMPT = \"What do you want? \"\n",
    "JOKE = (\"Here is a joke for you! Panaversity GPT - Sophia is heading out to the grocery store. \"\n",
    "        \"A programmer tells her: get a liter of milk, and if they have eggs, get 12. \"\n",
    "        \"Sophia returns with 13 liters of milk. The programmer asks why and Sophia replies: \"\n",
    "        \"'because they had eggs'\")\n",
    "SORRY = \"Sorry I only tell jokes\"\n",
    "\n",
    "# Ask the user\n",
    "user_input = input(PROMPT).lower()\n",
    "\n",
    "# Respond accordingly\n",
    "if user_input == \"joke\":\n",
    "    print(JOKE)\n",
    "else:\n",
    "    print(SORRY)\n"
   ]
  },
  {
   "cell_type": "markdown",
   "metadata": {},
   "source": [
    "## 01_double_it"
   ]
  },
  {
   "cell_type": "code",
   "execution_count": 7,
   "metadata": {},
   "outputs": [
    {
     "name": "stdout",
     "output_type": "stream",
     "text": [
      "2 double is 2\n",
      "2 double is 4\n",
      "4 double is 8\n",
      "8 double is 16\n",
      "16 double is 32\n",
      "32 double is 64\n",
      "64 double is 128\n"
     ]
    }
   ],
   "source": [
    "max = 100\n",
    "user_inp = int(input(\"Enter the number : \"))\n",
    "current : int = 1\n",
    "\n",
    "while current < max:\n",
    "    current *= 2 \n",
    "    print(f\"{user_inp} double is {current}\")\n",
    "    user_inp = current\n",
    "    \n",
    "    "
   ]
  },
  {
   "cell_type": "markdown",
   "metadata": {},
   "source": []
  }
 ],
 "metadata": {
  "kernelspec": {
   "display_name": "Python 3",
   "language": "python",
   "name": "python3"
  },
  "language_info": {
   "codemirror_mode": {
    "name": "ipython",
    "version": 3
   },
   "file_extension": ".py",
   "mimetype": "text/x-python",
   "name": "python",
   "nbconvert_exporter": "python",
   "pygments_lexer": "ipython3",
   "version": "3.13.1"
  }
 },
 "nbformat": 4,
 "nbformat_minor": 2
}
