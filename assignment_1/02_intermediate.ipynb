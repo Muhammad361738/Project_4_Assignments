{
 "cells": [
  {
   "cell_type": "markdown",
   "id": "f3a0d3a3",
   "metadata": {},
   "source": [
    "## control flow for consolw"
   ]
  },
  {
   "cell_type": "markdown",
   "id": "b32b153f",
   "metadata": {},
   "source": [
    " Milestone #1: Generate the random numbers -\n"
   ]
  },
  {
   "cell_type": "code",
   "execution_count": 1,
   "id": "b9a88397",
   "metadata": {},
   "outputs": [
    {
     "name": "stdout",
     "output_type": "stream",
     "text": [
      "Welcome to the High-Low Game!\n",
      "--------------------------------\n",
      "The computer's number is 42\n",
      "Your number is 65\n"
     ]
    }
   ],
   "source": [
    "import random\n",
    "\n",
    "print(\"Welcome to the High-Low Game!\")\n",
    "print(\"--------------------------------\")\n",
    "\n",
    "# Generate random numbers\n",
    "computer_number = random.randint(1, 100)\n",
    "your_number = random.randint(1, 100)\n",
    "\n",
    "# Print for testing\n",
    "print(f\"The computer's number is {computer_number}\")\n",
    "print(f\"Your number is {your_number}\")\n"
   ]
  },
  {
   "cell_type": "markdown",
   "id": "6b37e0c7",
   "metadata": {},
   "source": [
    "## Milestone #2: Get the user choice\n"
   ]
  },
  {
   "cell_type": "code",
   "execution_count": 2,
   "id": "390716b8",
   "metadata": {},
   "outputs": [
    {
     "name": "stdout",
     "output_type": "stream",
     "text": [
      "Do you think your number is higher or lower than the computer's?: "
     ]
    }
   ],
   "source": [
    "print(\"Do you think your number is higher or lower than the computer's?: \", end=\"\")\n",
    "guess = input().strip().lower()\n"
   ]
  },
  {
   "cell_type": "markdown",
   "id": "f1ff00bd",
   "metadata": {},
   "source": [
    "## Milestone #3: Write the game logic\n"
   ]
  },
  {
   "cell_type": "code",
   "execution_count": 3,
   "id": "269e5f78",
   "metadata": {},
   "outputs": [
    {
     "name": "stdout",
     "output_type": "stream",
     "text": [
      "You were right! The computer's number was 42\n"
     ]
    }
   ],
   "source": [
    "# Determine if the guess is correct\n",
    "if guess == \"higher\" and your_number > computer_number:\n",
    "    print(f\"You were right! The computer's number was {computer_number}\")\n",
    "elif guess == \"lower\" and your_number < computer_number:\n",
    "    print(f\"You were right! The computer's number was {computer_number}\")\n",
    "else:\n",
    "    print(f\"Aww, that's incorrect. The computer's number was {computer_number}\")\n"
   ]
  },
  {
   "cell_type": "markdown",
   "id": "1c3a6e89",
   "metadata": {},
   "source": [
    "## Milestone #4: Play multiple rounds\n"
   ]
  },
  {
   "cell_type": "code",
   "execution_count": 5,
   "id": "235cbd79",
   "metadata": {},
   "outputs": [
    {
     "name": "stdout",
     "output_type": "stream",
     "text": [
      "Welcome to the High-Low Game!\n",
      "--------------------------------\n",
      "Round 1\n",
      "Your number is 43\n",
      "You were right! The computer's number was 34\n",
      "Your score is now 1\n",
      "\n",
      "Round 2\n",
      "Your number is 70\n",
      "Aww, that's incorrect. The computer's number was 17\n",
      "Your score is now 1\n",
      "\n",
      "Round 3\n",
      "Your number is 25\n",
      "Aww, that's incorrect. The computer's number was 16\n",
      "Your score is now 1\n",
      "\n",
      "Round 4\n",
      "Your number is 59\n",
      "Aww, that's incorrect. The computer's number was 13\n",
      "Your score is now 1\n",
      "\n",
      "Round 5\n",
      "Your number is 79\n",
      "Aww, that's incorrect. The computer's number was 41\n",
      "Your score is now 1\n",
      "\n",
      "Thanks for playing!\n",
      "Better luck next time!\n"
     ]
    }
   ],
   "source": [
    "import random\n",
    "\n",
    "NUM_ROUNDS = 5  # You can change this to however many rounds you want\n",
    "score = 0\n",
    "\n",
    "print(\"Welcome to the High-Low Game!\")\n",
    "print(\"--------------------------------\")\n",
    "\n",
    "for round_num in range(1, NUM_ROUNDS + 1):\n",
    "    print(f\"Round {round_num}\")\n",
    "    \n",
    "    your_number = random.randint(1, 100)\n",
    "    computer_number = random.randint(1, 100)\n",
    "\n",
    "    print(f\"Your number is {your_number}\")\n",
    "    \n",
    "    guess = input(\"Do you think your number is higher or lower than the computer's?: \").strip().lower()\n",
    "    \n",
    "    # Extension #1: Safeguard user input\n",
    "    while guess not in [\"higher\", \"lower\"]:\n",
    "        guess = input(\"Please enter either 'higher' or 'lower': \").strip().lower()\n",
    "\n",
    "    # Determine if the guess is correct\n",
    "    if (guess == \"higher\" and your_number > computer_number) or \\\n",
    "       (guess == \"lower\" and your_number < computer_number):\n",
    "        print(f\"You were right! The computer's number was {computer_number}\")\n",
    "        score += 1\n",
    "    else:\n",
    "        print(f\"Aww, that's incorrect. The computer's number was {computer_number}\")\n",
    "    \n",
    "    print(f\"Your score is now {score}\\n\")\n",
    "\n",
    "# Final score message\n",
    "print(\"Thanks for playing!\")\n",
    "\n",
    "if score == NUM_ROUNDS:\n",
    "    print(\"Wow! You played perfectly!\")\n",
    "elif score >= NUM_ROUNDS // 2:\n",
    "    print(\"Good job, you played really well!\")\n",
    "else:\n",
    "    print(\"Better luck next time!\")\n"
   ]
  },
  {
   "cell_type": "markdown",
   "id": "74ca3786",
   "metadata": {},
   "source": [
    "## Intro_python "
   ]
  },
  {
   "cell_type": "markdown",
   "id": "6699dc4e",
   "metadata": {},
   "source": [
    "# Milestone #1: Mars Weight\n"
   ]
  },
  {
   "cell_type": "code",
   "execution_count": 6,
   "id": "aee78842",
   "metadata": {},
   "outputs": [
    {
     "name": "stdout",
     "output_type": "stream",
     "text": [
      "Your weight on Mars would be 27.59\n"
     ]
    }
   ],
   "source": [
    "# Prompt the user for their weight on Earth\n",
    "earth_weight = float(input(\"Enter your weight on Earth (in pounds or kg): \"))\n",
    "\n",
    "# Calculate the weight on Mars (37.8% of Earth weight)\n",
    "mars_weight = earth_weight * 0.378\n",
    "\n",
    "# Round the result to 2 decimal places\n",
    "mars_weight_rounded = round(mars_weight, 2)\n",
    "\n",
    "# Output the result\n",
    "print(f\"Your weight on Mars would be {mars_weight_rounded}\")\n"
   ]
  },
  {
   "cell_type": "markdown",
   "id": "990d3ed9",
   "metadata": {},
   "source": [
    "## Milestone #2: Adding in All Planets\n"
   ]
  },
  {
   "cell_type": "code",
   "execution_count": 7,
   "id": "79637d0e",
   "metadata": {},
   "outputs": [
    {
     "name": "stdout",
     "output_type": "stream",
     "text": [
      "The equivalent weight on Mercury: 27.45\n"
     ]
    }
   ],
   "source": [
    "# Dictionary of planet gravity constants (as a factor of Earth gravity)\n",
    "gravity_factors = {\n",
    "    \"Mercury\": 0.376,\n",
    "    \"Venus\": 0.889,\n",
    "    \"Mars\": 0.378,\n",
    "    \"Jupiter\": 2.36,\n",
    "    \"Saturn\": 1.081,\n",
    "    \"Uranus\": 0.815,\n",
    "    \"Neptune\": 1.14\n",
    "}\n",
    "\n",
    "# Get user's Earth weight\n",
    "earth_weight = float(input(\"Enter a weight on Earth: \"))\n",
    "\n",
    "# Get the name of the planet\n",
    "planet = input(\"Enter a planet: \")\n",
    "\n",
    "# Get the gravity factor from the dictionary\n",
    "gravity_factor = gravity_factors[planet]\n",
    "\n",
    "# Calculate weight on that planet\n",
    "planet_weight = earth_weight * gravity_factor\n",
    "\n",
    "# Round the result to 2 decimal places\n",
    "planet_weight_rounded = round(planet_weight, 2)\n",
    "\n",
    "# Print the result\n",
    "print(f\"The equivalent weight on {planet}: {planet_weight_rounded}\")\n"
   ]
  },
  {
   "cell_type": "markdown",
   "id": "3040450f",
   "metadata": {},
   "source": [
    "# list and dict"
   ]
  },
  {
   "cell_type": "code",
   "execution_count": 9,
   "id": "2b7da6f6",
   "metadata": {},
   "outputs": [
    {
     "name": "stdout",
     "output_type": "stream",
     "text": [
      "Length of fruit list  3\n",
      "Update fruit list  ['apple', 'banana', 'orange', 'Mango']\n"
     ]
    }
   ],
   "source": [
    "friut_list = [\"apple\",\"banana\",\"orange\"]\n",
    "\n",
    "print(\"Length of fruit list \",len(friut_list))\n",
    "\n",
    "friut_list.append(\"Mango\")  # append the mango in the list \n",
    "\n",
    "print(\"Update fruit list \" , friut_list)"
   ]
  },
  {
   "cell_type": "markdown",
   "id": "152ab568",
   "metadata": {},
   "source": [
    "# Problem #2: Index Game\n"
   ]
  },
  {
   "cell_type": "code",
   "execution_count": 1,
   "id": "b12d1d36",
   "metadata": {},
   "outputs": [],
   "source": [
    "my_list = [\"apple\",\"banana\",1,5,9,16,\"Talha\",\"zain\",20,\"Waqar\"] # initialize list\n"
   ]
  },
  {
   "cell_type": "markdown",
   "id": "fe7cf9b1",
   "metadata": {},
   "source": [
    "## Accessing Elements:\n",
    "Write a function that:\n",
    "\n",
    "Accepts a list and an index as inputs.\n",
    "Returns the element at the specified index.\n",
    "If the index is out of range, return an appropriate message.\n"
   ]
  },
  {
   "cell_type": "code",
   "execution_count": null,
   "id": "0ae70ed3",
   "metadata": {},
   "outputs": [
    {
     "name": "stdout",
     "output_type": "stream",
     "text": [
      "1\n",
      "Talha\n"
     ]
    }
   ],
   "source": [
    "def get_element_at_index(lst, index):\n",
    "    try:\n",
    "        return lst[index]\n",
    "    except IndexError:\n",
    "        return \"Index out of range.\"\n",
    "\n",
    "print(get_element_at_index(my_list, 2))  \n",
    "print(get_element_at_index(my_list, 6))  \n"
   ]
  },
  {
   "cell_type": "markdown",
   "id": "a2de7529",
   "metadata": {},
   "source": [
    "## Modifying Elements:\n",
    "Write a function that:\n",
    "\n",
    "Accepts a list, an index, and a new value as inputs.\n",
    "Replaces the element at the specified index with the new value.\n",
    "If the index is out of range, return an appropriate message.\n"
   ]
  },
  {
   "cell_type": "code",
   "execution_count": 6,
   "id": "53c0f951",
   "metadata": {},
   "outputs": [
    {
     "name": "stdout",
     "output_type": "stream",
     "text": [
      "['graps', 'apple', 1, 5, 9, 16, 'Talha', 'zain', 20, 'Waqar']\n",
      "Index out of range.\n"
     ]
    }
   ],
   "source": [
    "def modify_element_at_index(lst, index, new_value):\n",
    "    if 0 <= index < len(lst):\n",
    "        lst[index-1] = new_value\n",
    "        return lst\n",
    "    else:\n",
    "        return \"Index out of range.\"\n",
    "\n",
    "\n",
    "print(modify_element_at_index(my_list, 2, \"apple\"))  \n",
    "print(modify_element_at_index(my_list, 10, 200))"
   ]
  },
  {
   "cell_type": "markdown",
   "id": "d09786fa",
   "metadata": {},
   "source": [
    "## Slicing the List:\n",
    "Write a function that:\n",
    "\n",
    "Accepts a list, a start index, and an end index as inputs.\n",
    "Returns a new list containing the elements from the start index up to (but not including) the end index.\n",
    "Handles cases where the indices are out of range.\n"
   ]
  },
  {
   "cell_type": "code",
   "execution_count": 7,
   "id": "0a4c7428",
   "metadata": {},
   "outputs": [
    {
     "name": "stdout",
     "output_type": "stream",
     "text": [
      "['apple', 1, 5]\n",
      "['graps', 'apple']\n",
      "Start index should not be greater than end index.\n",
      "Start or end index is out of range.\n"
     ]
    }
   ],
   "source": [
    "def slice_list(lst, start, end):\n",
    "    if start < 0 or end > len(lst):\n",
    "        return \"Start or end index is out of range.\"\n",
    "    if start > end:\n",
    "        return \"Start index should not be greater than end index.\"\n",
    "    \n",
    "    return lst[start:end]\n",
    "\n",
    "\n",
    "print(slice_list(my_list, 1, 4))   \n",
    "print(slice_list(my_list, 0, 2))  \n",
    "print(slice_list(my_list, 4, 2))   \n",
    "print(slice_list(my_list, -1, 3))  "
   ]
  },
  {
   "cell_type": "markdown",
   "id": "8bb24c8c",
   "metadata": {},
   "source": [
    "## Game Interaction:\n",
    "Create a simple text-based game that:\n",
    "\n",
    "Prompts the user to select an operation (access, modify, slice).\n",
    "Asks for the necessary inputs (index, new value, etc.).\n",
    "Displays the result and the updated list.\n"
   ]
  },
  {
   "cell_type": "code",
   "execution_count": null,
   "id": "2da7ebe1",
   "metadata": {},
   "outputs": [],
   "source": [
    "def access_element(lst):\n",
    "    index = int(input(\"Enter the index to access: \"))\n",
    "    if 0 <= index < len(lst):\n",
    "        print(f\"Element at index {index}: {lst[index]}\")\n",
    "    else:\n",
    "        print(\"Index out of range.\")\n",
    "\n",
    "def modify_element(lst):\n",
    "    index = int(input(\"Enter the index to modify: \"))\n",
    "    if 0 <= index < len(lst):\n",
    "        new_value = input(\"Enter the new value: \")\n",
    "        lst[index -1] = new_value\n",
    "        print(f\"List after modification: {lst}\")\n",
    "    else:\n",
    "        print(\"Index out of range.\")\n",
    "\n",
    "def slice_list(lst):\n",
    "    start = int(input(\"Enter start index: \"))\n",
    "    end = int(input(\"Enter end index: \"))\n",
    "    if 0 <= start <= end <= len(lst):\n",
    "        print(f\"Sliced list: {lst[start:end]}\")\n",
    "    else:\n",
    "        print(\"Invalid slice indices.\")\n",
    "\n",
    "def list_game():\n",
    "    my_list = [\"apple\", \"banana\", \"cherry\", \"date\", \"elderberry\"]\n",
    "    print(\"Welcome to the List Game!\")\n",
    "    print(f\"Your list: {my_list}\")\n",
    "\n",
    "    while True:\n",
    "        print(\"\\nChoose an operation: access / modify / slice / quit\")\n",
    "        choice = input(\"Enter your choice: \").lower()\n",
    "\n",
    "        if choice == \"access\":\n",
    "            access_element(my_list)\n",
    "        elif choice == \"modify\":\n",
    "            modify_element(my_list)\n",
    "        elif choice == \"slice\":\n",
    "            slice_list(my_list)\n",
    "        elif choice == \"quit\":\n",
    "            print(\"Thanks for playing!\")\n",
    "            break\n",
    "        else:\n",
    "            print(\"Invalid choice. Please try again.\")\n",
    "\n",
    "# Start the game\n",
    "list_game()\n"
   ]
  }
 ],
 "metadata": {
  "kernelspec": {
   "display_name": "Python 3",
   "language": "python",
   "name": "python3"
  },
  "language_info": {
   "codemirror_mode": {
    "name": "ipython",
    "version": 3
   },
   "file_extension": ".py",
   "mimetype": "text/x-python",
   "name": "python",
   "nbconvert_exporter": "python",
   "pygments_lexer": "ipython3",
   "version": "3.13.1"
  }
 },
 "nbformat": 4,
 "nbformat_minor": 5
}
