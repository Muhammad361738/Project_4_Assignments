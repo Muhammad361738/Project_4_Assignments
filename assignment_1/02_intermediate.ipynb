{
 "cells": [
  {
   "cell_type": "markdown",
   "id": "f3a0d3a3",
   "metadata": {},
   "source": [
    "## control flow for consolw"
   ]
  },
  {
   "cell_type": "markdown",
   "id": "b32b153f",
   "metadata": {},
   "source": [
    " Milestone #1: Generate the random numbers -\n"
   ]
  },
  {
   "cell_type": "code",
   "execution_count": 1,
   "id": "b9a88397",
   "metadata": {},
   "outputs": [
    {
     "name": "stdout",
     "output_type": "stream",
     "text": [
      "Welcome to the High-Low Game!\n",
      "--------------------------------\n",
      "The computer's number is 42\n",
      "Your number is 65\n"
     ]
    }
   ],
   "source": [
    "import random\n",
    "\n",
    "print(\"Welcome to the High-Low Game!\")\n",
    "print(\"--------------------------------\")\n",
    "\n",
    "# Generate random numbers\n",
    "computer_number = random.randint(1, 100)\n",
    "your_number = random.randint(1, 100)\n",
    "\n",
    "# Print for testing\n",
    "print(f\"The computer's number is {computer_number}\")\n",
    "print(f\"Your number is {your_number}\")\n"
   ]
  },
  {
   "cell_type": "markdown",
   "id": "6b37e0c7",
   "metadata": {},
   "source": [
    "## Milestone #2: Get the user choice\n"
   ]
  },
  {
   "cell_type": "code",
   "execution_count": 2,
   "id": "390716b8",
   "metadata": {},
   "outputs": [
    {
     "name": "stdout",
     "output_type": "stream",
     "text": [
      "Do you think your number is higher or lower than the computer's?: "
     ]
    }
   ],
   "source": [
    "print(\"Do you think your number is higher or lower than the computer's?: \", end=\"\")\n",
    "guess = input().strip().lower()\n"
   ]
  },
  {
   "cell_type": "markdown",
   "id": "f1ff00bd",
   "metadata": {},
   "source": [
    "## Milestone #3: Write the game logic\n"
   ]
  },
  {
   "cell_type": "code",
   "execution_count": 3,
   "id": "269e5f78",
   "metadata": {},
   "outputs": [
    {
     "name": "stdout",
     "output_type": "stream",
     "text": [
      "You were right! The computer's number was 42\n"
     ]
    }
   ],
   "source": [
    "# Determine if the guess is correct\n",
    "if guess == \"higher\" and your_number > computer_number:\n",
    "    print(f\"You were right! The computer's number was {computer_number}\")\n",
    "elif guess == \"lower\" and your_number < computer_number:\n",
    "    print(f\"You were right! The computer's number was {computer_number}\")\n",
    "else:\n",
    "    print(f\"Aww, that's incorrect. The computer's number was {computer_number}\")\n"
   ]
  },
  {
   "cell_type": "markdown",
   "id": "1c3a6e89",
   "metadata": {},
   "source": [
    "## Milestone #4: Play multiple rounds\n"
   ]
  },
  {
   "cell_type": "code",
   "execution_count": 5,
   "id": "235cbd79",
   "metadata": {},
   "outputs": [
    {
     "name": "stdout",
     "output_type": "stream",
     "text": [
      "Welcome to the High-Low Game!\n",
      "--------------------------------\n",
      "Round 1\n",
      "Your number is 43\n",
      "You were right! The computer's number was 34\n",
      "Your score is now 1\n",
      "\n",
      "Round 2\n",
      "Your number is 70\n",
      "Aww, that's incorrect. The computer's number was 17\n",
      "Your score is now 1\n",
      "\n",
      "Round 3\n",
      "Your number is 25\n",
      "Aww, that's incorrect. The computer's number was 16\n",
      "Your score is now 1\n",
      "\n",
      "Round 4\n",
      "Your number is 59\n",
      "Aww, that's incorrect. The computer's number was 13\n",
      "Your score is now 1\n",
      "\n",
      "Round 5\n",
      "Your number is 79\n",
      "Aww, that's incorrect. The computer's number was 41\n",
      "Your score is now 1\n",
      "\n",
      "Thanks for playing!\n",
      "Better luck next time!\n"
     ]
    }
   ],
   "source": [
    "import random\n",
    "\n",
    "NUM_ROUNDS = 5  # You can change this to however many rounds you want\n",
    "score = 0\n",
    "\n",
    "print(\"Welcome to the High-Low Game!\")\n",
    "print(\"--------------------------------\")\n",
    "\n",
    "for round_num in range(1, NUM_ROUNDS + 1):\n",
    "    print(f\"Round {round_num}\")\n",
    "    \n",
    "    your_number = random.randint(1, 100)\n",
    "    computer_number = random.randint(1, 100)\n",
    "\n",
    "    print(f\"Your number is {your_number}\")\n",
    "    \n",
    "    guess = input(\"Do you think your number is higher or lower than the computer's?: \").strip().lower()\n",
    "    \n",
    "    # Extension #1: Safeguard user input\n",
    "    while guess not in [\"higher\", \"lower\"]:\n",
    "        guess = input(\"Please enter either 'higher' or 'lower': \").strip().lower()\n",
    "\n",
    "    # Determine if the guess is correct\n",
    "    if (guess == \"higher\" and your_number > computer_number) or \\\n",
    "       (guess == \"lower\" and your_number < computer_number):\n",
    "        print(f\"You were right! The computer's number was {computer_number}\")\n",
    "        score += 1\n",
    "    else:\n",
    "        print(f\"Aww, that's incorrect. The computer's number was {computer_number}\")\n",
    "    \n",
    "    print(f\"Your score is now {score}\\n\")\n",
    "\n",
    "# Final score message\n",
    "print(\"Thanks for playing!\")\n",
    "\n",
    "if score == NUM_ROUNDS:\n",
    "    print(\"Wow! You played perfectly!\")\n",
    "elif score >= NUM_ROUNDS // 2:\n",
    "    print(\"Good job, you played really well!\")\n",
    "else:\n",
    "    print(\"Better luck next time!\")\n"
   ]
  },
  {
   "cell_type": "code",
   "execution_count": null,
   "id": "aee78842",
   "metadata": {},
   "outputs": [],
   "source": []
  }
 ],
 "metadata": {
  "kernelspec": {
   "display_name": "Python 3",
   "language": "python",
   "name": "python3"
  },
  "language_info": {
   "codemirror_mode": {
    "name": "ipython",
    "version": 3
   },
   "file_extension": ".py",
   "mimetype": "text/x-python",
   "name": "python",
   "nbconvert_exporter": "python",
   "pygments_lexer": "ipython3",
   "version": "3.13.1"
  }
 },
 "nbformat": 4,
 "nbformat_minor": 5
}
