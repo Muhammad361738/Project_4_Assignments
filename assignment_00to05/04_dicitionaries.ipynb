{
 "cells": [
  {
   "cell_type": "markdown",
   "metadata": {},
   "source": [
    "## 00_count_num"
   ]
  },
  {
   "cell_type": "code",
   "execution_count": 2,
   "metadata": {},
   "outputs": [
    {
     "name": "stdout",
     "output_type": "stream",
     "text": [
      "dict_items([(4, 2), (5, 1), (6, 1), (7, 1), (8, 1), (9, 1)])\n",
      "4 appears 2 times .\n",
      "5 appears 1 times .\n",
      "6 appears 1 times .\n",
      "7 appears 1 times .\n",
      "8 appears 1 times .\n",
      "9 appears 1 times .\n"
     ]
    }
   ],
   "source": [
    "number_count = {}\n",
    "while True : \n",
    "    num = input(\"Enter the number (or type 'done' to finish )\")\n",
    "    \n",
    "    if num.lower() == 'done':\n",
    "        break\n",
    "    \n",
    "    num = int(num)\n",
    "    \n",
    "    if num in number_count:\n",
    "        number_count[num] += 1\n",
    "    else: \n",
    "        number_count [num] = 1\n",
    "\n",
    "print(number_count.items())        \n",
    "\n",
    "for number , count in number_count.items():\n",
    "    print(f\"{number} appears {count} times .\")"
   ]
  },
  {
   "cell_type": "markdown",
   "metadata": {},
   "source": [
    "## 01_phonebook"
   ]
  },
  {
   "cell_type": "code",
   "execution_count": 3,
   "metadata": {},
   "outputs": [
    {
     "name": "stdout",
     "output_type": "stream",
     "text": [
      "\n",
      " Phone Book Menu\n",
      "1. Add Contact\n",
      "2. Look up Contact\n",
      "3. Delete Contact\n",
      "4. Display All Contact\n",
      "5. Exit\n",
      "contact for talha added ..\n",
      "\n",
      " Phone Book Menu\n",
      "1. Add Contact\n",
      "2. Look up Contact\n",
      "3. Delete Contact\n",
      "4. Display All Contact\n",
      "5. Exit\n",
      "contact for zain added ..\n",
      "\n",
      " Phone Book Menu\n",
      "1. Add Contact\n",
      "2. Look up Contact\n",
      "3. Delete Contact\n",
      "4. Display All Contact\n",
      "5. Exit\n",
      "contact for waqar added ..\n",
      "\n",
      " Phone Book Menu\n",
      "1. Add Contact\n",
      "2. Look up Contact\n",
      "3. Delete Contact\n",
      "4. Display All Contact\n",
      "5. Exit\n",
      "talha's phone number is 03194880634.\n",
      "\n",
      " Phone Book Menu\n",
      "1. Add Contact\n",
      "2. Look up Contact\n",
      "3. Delete Contact\n",
      "4. Display All Contact\n",
      "5. Exit\n",
      "\n",
      "Phone book Contacts \n",
      "talha:03194880634\n",
      "zain:03002185733\n",
      "waqar:03422495365\n",
      "\n",
      " Phone Book Menu\n",
      "1. Add Contact\n",
      "2. Look up Contact\n",
      "3. Delete Contact\n",
      "4. Display All Contact\n",
      "5. Exit\n",
      "Exiting phonebook.\n"
     ]
    }
   ],
   "source": [
    "phone_book = {}\n",
    "\n",
    "def display_menu():\n",
    "    print(\"\\n Phone Book Menu\")\n",
    "    print(\"1. Add Contact\")\n",
    "    print(\"2. Look up Contact\")\n",
    "    print(\"3. Delete Contact\")\n",
    "    print(\"4. Display All Contact\")\n",
    "    print(\"5. Exit\")\n",
    "    \n",
    "#  function to add number in phone book\n",
    "def add_contact():\n",
    "    name = input(\"Enter contact name : \")\n",
    "    number = input(\"Enter contact number : \")\n",
    "    phone_book[name] = number\n",
    "#  function to look up a contact    \n",
    "    print(f\"contact for {name} added ..\")\n",
    "    \n",
    "def lookup_contact ():\n",
    "    name = input(\"Enter the name of the contact to look up: \")\n",
    "    if name in phone_book:\n",
    "        print(f\"{name}'s phone number is {phone_book[name]}.\")\n",
    "    else:\n",
    "        print(f\"No contact found for {name}.\")\n",
    "#  function to delete contact \n",
    "def delete_contact():\n",
    "    name = input(\"Enter the name of the contact to delete \")\n",
    "    if name in phone_book:\n",
    "        del phone_book[name]\n",
    "        print(f\"contact for {name} deleted ...\")\n",
    "    else: \n",
    "        print(f\"No contact to found for {name}\")\n",
    "        \n",
    "        \n",
    "        \n",
    "#  function to display all contacts \n",
    "def display_contacts():\n",
    "    if phone_book:\n",
    "        print(\"\\nPhone book Contacts \")\n",
    "        for name , number in phone_book.items():\n",
    "            print(f\"{name}:{number}\")\n",
    "    \n",
    "    else: \n",
    "        print(\"Phone Book is empty\")\n",
    "        \n",
    "        \n",
    "        \n",
    "while True:\n",
    "    display_menu()\n",
    "    choice = input(\"Choose an option (1-5): \")\n",
    "\n",
    "    if choice == '1':\n",
    "        add_contact()\n",
    "    elif choice == '2':\n",
    "        lookup_contact()\n",
    "    elif choice == '3':\n",
    "        delete_contact()\n",
    "    elif choice == '4':\n",
    "        display_contacts()\n",
    "    elif choice == '5':\n",
    "        print(\"Exiting phonebook.\")\n",
    "        break\n",
    "    else:\n",
    "        print(\"Invalid choice. Please select a valid option.\")\n"
   ]
  },
  {
   "cell_type": "markdown",
   "metadata": {},
   "source": [
    "## pop_up_shop"
   ]
  },
  {
   "cell_type": "code",
   "execution_count": 5,
   "metadata": {},
   "outputs": [
    {
     "name": "stdout",
     "output_type": "stream",
     "text": [
      "Your total is $30.5\n"
     ]
    }
   ],
   "source": [
    "# Dictionary of fruits and their respective prices\n",
    "fruit_prices = {\n",
    "    \"apple\": 1.5,\n",
    "    \"durian\": 5.0,\n",
    "    \"jackfruit\": 3.0,\n",
    "    \"kiwi\": 2.0,\n",
    "    \"rambutan\": 4.0,\n",
    "    \"mango\": 2.5\n",
    "}\n",
    "\n",
    "# Initialize total cost to 0\n",
    "total_cost = 0\n",
    "\n",
    "# Loop through the fruit dictionary\n",
    "for fruit, price in fruit_prices.items():\n",
    "    # Prompt the user for the quantity of each fruit they want\n",
    "    quantity = int(input(f\"How many ({fruit}) do you want?: \"))\n",
    "    \n",
    "    # Calculate the cost for that fruit and add it to the total cost\n",
    "    total_cost += quantity * price\n",
    "\n",
    "# Print the total cost\n",
    "print(f\"Your total is ${total_cost}\")\n"
   ]
  },
  {
   "cell_type": "markdown",
   "metadata": {},
   "source": [
    "## 03_powerful_passwords"
   ]
  },
  {
   "cell_type": "code",
   "execution_count": 10,
   "metadata": {},
   "outputs": [
    {
     "name": "stdout",
     "output_type": "stream",
     "text": [
      "False\n",
      "True\n",
      "False\n",
      "True\n",
      "False\n",
      "True\n"
     ]
    }
   ],
   "source": [
    "from hashlib import sha256\n",
    "\n",
    "def login(email, stored_logins, password_to_check):\n",
    "    \"\"\"\n",
    "    Returns True if the hash of the password we are checking matches the one in stored_logins\n",
    "    for a specific email. Otherwise, returns False.\n",
    "\n",
    "    email: the email we are checking the password for\n",
    "    stored_logins: a dictionary pointing from an email to its hashed password\n",
    "    password_to_check: a password we want to test alongside the email to login with\n",
    "    \"\"\"\n",
    "    \n",
    "    if stored_logins[email] == hash_password(password_to_check):\n",
    "        return True\n",
    "    \n",
    "    return False\n",
    "\n",
    "# There is no need to edit code beyond this point\n",
    "\n",
    "def hash_password(password):\n",
    "    \"\"\"\n",
    "    Takes in a password and returns the SHA256 hashed value for that specific password.\n",
    "    \n",
    "    Inputs:\n",
    "        password: the password we want\n",
    "    \n",
    "    Outputs:\n",
    "        the hashed form of the input password\n",
    "    \"\"\"\n",
    "\n",
    "    return sha256(password.encode()).hexdigest()\n",
    "\n",
    "def main():\n",
    "    # stored_logins is a dictionary with emails as keys and hashed passwords as values\n",
    "    stored_logins = {\n",
    "        \"example@gmail.com\": \"5e884898da28047151d0e56f8dc6292773603d0d6aabbdd62a11ef721d1542d8\",\n",
    "        \"code_in_placer@cip.org\": \"973607a4ae7b4cf7d96a100b0fb07e8519cc4f70441d41214a9f811577bb06cc\",\n",
    "        \"student@stanford.edu\": \"882c6df720fd99f5eebb1581a1cf975625cea8a160283011c0b9512bb56c95fb\"\n",
    "    }\n",
    "    \n",
    "    print(login(\"example@gmail.com\", stored_logins, \"word\"))\n",
    "    print(login(\"example@gmail.com\", stored_logins, \"password\"))\n",
    "    \n",
    "    print(login(\"code_in_placer@cip.org\", stored_logins, \"Karel\"))\n",
    "    print(login(\"code_in_placer@cip.org\", stored_logins, \"karel\"))\n",
    "    \n",
    "    print(login(\"student@stanford.edu\", stored_logins, \"password\"))\n",
    "    print(login(\"student@stanford.edu\", stored_logins, \"123!456?789\"))\n",
    "\n",
    "\n",
    "if __name__ == '__main__':\n",
    "    main()\n"
   ]
  },
  {
   "cell_type": "code",
   "execution_count": 11,
   "metadata": {},
   "outputs": [
    {
     "name": "stdout",
     "output_type": "stream",
     "text": [
      "User registered successfully!\n",
      "Login successful!\n",
      "Invalid password!\n"
     ]
    }
   ],
   "source": [
    "from hashlib import sha256\n",
    "\n",
    "def hash_password(password):\n",
    "    \"\"\"Hashes the password using SHA-256.\"\"\"\n",
    "    return sha256(password.encode()).hexdigest()\n",
    "\n",
    "def register_user(email, password, stored_logins):\n",
    "    \"\"\"Registers a new user if the email is not already taken.\"\"\"\n",
    "    if email in stored_logins:\n",
    "        return \"User already exists!\"\n",
    "    stored_logins[email] = hash_password(password)\n",
    "    return \"User registered successfully!\"\n",
    "\n",
    "def login(email, password_to_check, stored_logins):\n",
    "    \"\"\"Checks if the given email and password match stored credentials.\"\"\"\n",
    "    if email not in stored_logins:\n",
    "        return \"Email not found!\"\n",
    "    return \"Login successful!\" if stored_logins[email] == hash_password(password_to_check) else \"Invalid password!\"\n",
    "\n",
    "def main():\n",
    "    stored_logins = {}\n",
    "    print(register_user(\"example@gmail.com\", \"password\", stored_logins))\n",
    "    print(login(\"example@gmail.com\", \"password\", stored_logins))\n",
    "    print(login(\"example@gmail.com\", \"wrongpassword\", stored_logins))\n",
    "\n",
    "if __name__ == '__main__':\n",
    "    main()\n"
   ]
  },
  {
   "cell_type": "code",
   "execution_count": null,
   "metadata": {},
   "outputs": [],
   "source": []
  }
 ],
 "metadata": {
  "kernelspec": {
   "display_name": "Python 3",
   "language": "python",
   "name": "python3"
  },
  "language_info": {
   "codemirror_mode": {
    "name": "ipython",
    "version": 3
   },
   "file_extension": ".py",
   "mimetype": "text/x-python",
   "name": "python",
   "nbconvert_exporter": "python",
   "pygments_lexer": "ipython3",
   "version": "3.13.1"
  }
 },
 "nbformat": 4,
 "nbformat_minor": 2
}
