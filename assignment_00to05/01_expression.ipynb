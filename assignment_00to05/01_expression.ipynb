{
 "cells": [
  {
   "cell_type": "markdown",
   "metadata": {},
   "source": [
    "## 01 dicesimutor "
   ]
  },
  {
   "cell_type": "code",
   "execution_count": 3,
   "metadata": {},
   "outputs": [
    {
     "name": "stdout",
     "output_type": "stream",
     "text": [
      "Die 1 in my three_required main callling function IS : 10\n",
      "The total of two 4 and 3 dies is : 7\n",
      "The total of two 5 and 6 dies is : 11\n",
      "The total of two 4 and 3 dies is : 7\n",
      "Die 1 in my three_required main callling function IS : 10\n"
     ]
    }
   ],
   "source": [
    "import random \n",
    "\n",
    "num_dies = 6\n",
    "\n",
    "def find_roll_dies ():\n",
    "    die1 : int = random.randint(1,num_dies)\n",
    "    die2 : int = random.randint(1,num_dies)\n",
    "    total_two_dies : int = die1 + die2\n",
    "    print(f\"The total of two {die1} and {die2} dies is : {total_two_dies}\")\n",
    "    \n",
    "def three_required_dies ():\n",
    "    die1 : int = 10\n",
    "    print(f\"Die 1 in my three_required main callling function IS : {die1}\")\n",
    "    find_roll_dies()\n",
    "    find_roll_dies()\n",
    "    find_roll_dies()\n",
    "    print(f\"Die 1 in my three_required main callling function IS : {die1}\")\n",
    "\n",
    "if __name__ == \"__main__\":\n",
    "    three_required_dies()"
   ]
  },
  {
   "cell_type": "markdown",
   "metadata": {},
   "source": [
    "## 02 e=mc^2\n"
   ]
  },
  {
   "cell_type": "code",
   "execution_count": 6,
   "metadata": {},
   "outputs": [
    {
     "name": "stdout",
     "output_type": "stream",
     "text": [
      "User Mass : 18.0 and Light consatant 299792458 **2 is 1.6177593217262717e+18 joules of energy\n"
     ]
    }
   ],
   "source": [
    "def mass_energy(user_mass):\n",
    "    C = 299792458 \n",
    "\n",
    "    E = user_mass * C*C\n",
    "    print(f\"User Mass : {user_mass} and Light consatant {C} **2 is {E} joules of energy\")\n",
    "    \n",
    "user_mass : float = float(input(\"Enter kilos of mass:\"))\n",
    "\n",
    "if __name__ == \"__main__\":\n",
    "    mass_energy(user_mass)"
   ]
  },
  {
   "cell_type": "markdown",
   "metadata": {},
   "source": [
    "## 03_feet_to_inches \n"
   ]
  },
  {
   "cell_type": "code",
   "execution_count": 8,
   "metadata": {},
   "outputs": [
    {
     "name": "stdout",
     "output_type": "stream",
     "text": [
      "the 2.0 feet is 24.0 inches \n"
     ]
    }
   ],
   "source": [
    "def feet_inches(user_feet):\n",
    "    inches_in_feet :int = 12\n",
    "    inches = user_feet * inches_in_feet\n",
    "    print(f\"the {user_feet} feet is {inches} inches \")\n",
    "\n",
    "user_feet : float = float(input(\"Enter number of  Feet:\"))\n",
    "if __name__ == \"__main__\":\n",
    "    feet_inches(user_feet)\n"
   ]
  },
  {
   "cell_type": "markdown",
   "metadata": {},
   "source": [
    "## 04_pythagorean_theorem"
   ]
  },
  {
   "cell_type": "code",
   "execution_count": 9,
   "metadata": {},
   "outputs": [
    {
     "name": "stdout",
     "output_type": "stream",
     "text": [
      "The Length of Hypotenious is :  5.0\n"
     ]
    }
   ],
   "source": [
    "import math \n",
    "def pythagoriaus_theorem(length_1,length_2):\n",
    "    length_of_third_side : float = math.sqrt(length_1 **2 + length_2**2)\n",
    "    print(f\"The Length of Hypotenious is :  {length_of_third_side}\")\n",
    "    \n",
    "\n",
    "length_of_first_side : float = float(input(\"Enter the length of AB : \"))\n",
    "length_of_second_side : float = float(input(\"Enter the length of AC : \"))\n",
    "\n",
    "if __name__ == \"__main__\":\n",
    "    pythagoriaus_theorem(length_of_first_side,length_of_second_side)"
   ]
  },
  {
   "cell_type": "markdown",
   "metadata": {},
   "source": [
    "## 05_remainder_division"
   ]
  },
  {
   "cell_type": "code",
   "execution_count": 11,
   "metadata": {},
   "outputs": [
    {
     "name": "stdout",
     "output_type": "stream",
     "text": [
      "The division of 5 and 3 is 1 and these numbers reminder is 2\n"
     ]
    }
   ],
   "source": [
    "def devision_and_reminder(num1,num2):\n",
    "    div = num1 // num2\n",
    "    rem = num1 % num2\n",
    "    \n",
    "    print(f\"The division of {num1} and {num2} is {div} and these numbers reminder is {rem}\")\n",
    "    \n",
    "user_num1 : int = int(input(\"Enter the first integer number \"))\n",
    "user_num2 : int = int(input(\"Enter the second integer number \"))\n",
    "\n",
    "if __name__ == \"__main__\":\n",
    "    devision_and_reminder(user_num1,user_num2)"
   ]
  },
  {
   "cell_type": "markdown",
   "metadata": {},
   "source": [
    "## 06_rolldice.md\n"
   ]
  },
  {
   "cell_type": "code",
   "execution_count": 12,
   "metadata": {},
   "outputs": [
    {
     "name": "stdout",
     "output_type": "stream",
     "text": [
      "Dies have num 6 sides each \n",
      "First Die is 6\n",
      "Second Die is 4\n",
      "Total of two dies  is 10\n"
     ]
    }
   ],
   "source": [
    "import random \n",
    "\n",
    "def roll_dice ():\n",
    "    num_dies : int  = 6\n",
    "    die1 : int = random.randint(1,num_dies)\n",
    "    die2 : int = random.randint(1,num_dies)\n",
    "    total : int = die1 + die2\n",
    "    print(f\"Dies have num {num_dies} sides each \")\n",
    "    print(f\"First Die is {die1}\")\n",
    "    print(f\"Second Die is {die2}\")\n",
    "    print(f\"Total of two dies  is {total}\")\n",
    "    \n",
    "if __name__ == \"__main__\":\n",
    "    roll_dice()"
   ]
  },
  {
   "cell_type": "markdown",
   "metadata": {},
   "source": [
    "## 06_seconds_in_year"
   ]
  },
  {
   "cell_type": "code",
   "execution_count": 16,
   "metadata": {},
   "outputs": [
    {
     "name": "stdout",
     "output_type": "stream",
     "text": [
      "There are 31536000 seconds in Year \n"
     ]
    }
   ],
   "source": [
    "days_per_year :int  = 365\n",
    "hours_per_day :int = 24\n",
    "min_per_hour : int = 60\n",
    "sec_per_min :int = 60\n",
    "\n",
    "def seconds_in_year():\n",
    "    seconds = days_per_year * hours_per_day * min_per_hour * sec_per_min\n",
    "    print(f\"There are {seconds} seconds in Year \")\n",
    "if __name__ == \"__main__\":\n",
    "    seconds_in_year()"
   ]
  },
  {
   "cell_type": "markdown",
   "metadata": {},
   "source": [
    "## 07_mid_lib_game\n"
   ]
  },
  {
   "cell_type": "code",
   "execution_count": 18,
   "metadata": {},
   "outputs": [
    {
     "name": "stdout",
     "output_type": "stream",
     "text": [
      "Panaversity is fun. I learned to program and used Python to make my no  make fun with  piaic!\n"
     ]
    }
   ],
   "source": [
    "sentece: str = \"Panaversity is fun. I learned to program and used Python to make my \" # adjective noun verb\n",
    "\n",
    "def mid_lib_game(adj,noun,verb):\n",
    "    \n",
    "    print(sentece + adj + \" \" + noun + \" \" + verb + \"!\")\n",
    "\n",
    "adjective: str = input(\"Please type an adjective and press enter. \")\n",
    "noun: str = input(\"Please type a noun and press enter. \")\n",
    "verb: str = input(\"Please type a verb and press enter. \")\n",
    "\n",
    "\n",
    "if __name__ == '__main__':\n",
    "    mid_lib_game(adjective,noun,verb)\n"
   ]
  },
  {
   "cell_type": "code",
   "execution_count": null,
   "metadata": {},
   "outputs": [],
   "source": []
  }
 ],
 "metadata": {
  "kernelspec": {
   "display_name": "Python 3",
   "language": "python",
   "name": "python3"
  },
  "language_info": {
   "codemirror_mode": {
    "name": "ipython",
    "version": 3
   },
   "file_extension": ".py",
   "mimetype": "text/x-python",
   "name": "python",
   "nbconvert_exporter": "python",
   "pygments_lexer": "ipython3",
   "version": "3.13.1"
  }
 },
 "nbformat": 4,
 "nbformat_minor": 2
}
