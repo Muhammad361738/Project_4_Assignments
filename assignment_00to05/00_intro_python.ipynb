{
 "cells": [
  {
   "cell_type": "markdown",
   "metadata": {},
   "source": [
    "## 01 Add two number "
   ]
  },
  {
   "cell_type": "code",
   "execution_count": 6,
   "metadata": {},
   "outputs": [
    {
     "name": "stdout",
     "output_type": "stream",
     "text": [
      "This program Adds Two numbers:\n",
      "The sum of 45 and 45 is = 90\n"
     ]
    }
   ],
   "source": [
    "def add(num1, num2):\n",
    "    print(f\"The sum of {num1} and {num2} is = {num1 + num2}\")\n",
    "    \n",
    "    \n",
    "print(\"This program Adds Two numbers:\")\n",
    "user_num1: int = int(input(\"Enter the first number: \"))\n",
    "user_num2: int = int(input(\"Enter the second number: \"))\n",
    "\n",
    "if __name__ == '__main__': \n",
    "    add(user_num1, user_num2)\n",
    "\n"
   ]
  },
  {
   "cell_type": "markdown",
   "metadata": {},
   "source": [
    "## 02 _agrement_bot"
   ]
  },
  {
   "cell_type": "code",
   "execution_count": null,
   "metadata": {},
   "outputs": [
    {
     "name": "stdout",
     "output_type": "stream",
     "text": [
      "My Favorite Animal is vowlf !\n"
     ]
    }
   ],
   "source": [
    "def ask_about_animal(user_animal):\n",
    "    print(f\"My Favorite Animal is {user_animal} !\")\n",
    "\n",
    "user_inp : str = str(input(f\"What's your favorite animal? : \"))\n",
    "if __name__ == \"__main__\":\n",
    "    ask_about_animal(user_inp)"
   ]
  },
  {
   "cell_type": "markdown",
   "metadata": {},
   "source": [
    "## 03_fahrenhit_to_celsius"
   ]
  },
  {
   "cell_type": "code",
   "execution_count": null,
   "metadata": {},
   "outputs": [
    {
     "name": "stdout",
     "output_type": "stream",
     "text": [
      "Temperature :100.0F = 37.77777777777778C\n"
     ]
    }
   ],
   "source": [
    "def convert_temperature(user_tem):\n",
    "    degree_celsius = (user_tem -32)*5.0/9.0\n",
    "    print(f\"Temperature : {user_tem}F = {degree_celsius}C\")\n",
    "    \n",
    "user_tem : float = float(input(\"Enter temperature in Fahrenheit: \"))\n",
    "\n",
    "if __name__ == \"__main__\":\n",
    "    convert_temperature(user_tem)"
   ]
  },
  {
   "cell_type": "markdown",
   "metadata": {},
   "source": [
    "## 04_how_old_are_they"
   ]
  },
  {
   "cell_type": "code",
   "execution_count": 21,
   "metadata": {},
   "outputs": [
    {
     "name": "stdout",
     "output_type": "stream",
     "text": [
      "Anthon is 21 \n",
      "Beth  is 27\n",
      "Chen is 47\n",
      "Drew is 68\n",
      "Ethen is 47\n"
     ]
    }
   ],
   "source": [
    "def friends_age():\n",
    "    anthon : int = 21\n",
    "    beth : int = anthon + 6\n",
    "    chen : int = beth + 20\n",
    "    drew : int = chen + anthon\n",
    "    ethen : int = chen\n",
    "    \n",
    "    print(f\"Anthon is {anthon} \\nBeth  is {beth}\\nChen is {chen}\\nDrew is {drew}\\nEthen is {ethen}\")\n",
    "\n",
    "if __name__ == \"__main__\":\n",
    "    friends_age()\n",
    "\n",
    "\n",
    "\n",
    "\n"
   ]
  },
  {
   "cell_type": "markdown",
   "metadata": {},
   "source": [
    "## 05_triangle_perimeter "
   ]
  },
  {
   "cell_type": "code",
   "execution_count": 23,
   "metadata": {},
   "outputs": [
    {
     "name": "stdout",
     "output_type": "stream",
     "text": [
      "The perimeter of triangle is 15.0\n"
     ]
    }
   ],
   "source": [
    "def triangle_perimeter(per_one,per_two,per_three):\n",
    "    print(f\"The perimeter of triangle is {per_one + per_two + per_three}\")\n",
    "\n",
    "user_inp1 :float  = float(input(\"What is the length of first side : \"))\n",
    "user_inp2 :float  = float(input(\"What is the length of second side : \"))\n",
    "user_inp3 :float  = float(input(\"What is the length of third  side : \"))\n",
    "\n",
    "if __name__ == \"__main__\":\n",
    "    triangle_perimeter(user_inp1,user_inp2,user_inp3)"
   ]
  },
  {
   "cell_type": "markdown",
   "metadata": {},
   "source": [
    "## 06_square_the_number"
   ]
  },
  {
   "cell_type": "code",
   "execution_count": 24,
   "metadata": {},
   "outputs": [
    {
     "name": "stdout",
     "output_type": "stream",
     "text": [
      "The square of 16.0 is 256.0\n"
     ]
    }
   ],
   "source": [
    "def square_of_numm(user_num):\n",
    "    print(f\"The square of {user_num} is {user_num * user_num}\")\n",
    "    \n",
    "user_square : float = float(input(\"Type a number to see it square : \"))\n",
    "\n",
    "if __name__ == \"__main__\":\n",
    "    square_of_numm(user_square)"
   ]
  },
  {
   "cell_type": "code",
   "execution_count": null,
   "metadata": {},
   "outputs": [],
   "source": []
  }
 ],
 "metadata": {
  "kernelspec": {
   "display_name": "Python 3",
   "language": "python",
   "name": "python3"
  },
  "language_info": {
   "codemirror_mode": {
    "name": "ipython",
    "version": 3
   },
   "file_extension": ".py",
   "mimetype": "text/x-python",
   "name": "python",
   "nbconvert_exporter": "python",
   "pygments_lexer": "ipython3",
   "version": "3.13.1"
  }
 },
 "nbformat": 4,
 "nbformat_minor": 2
}
