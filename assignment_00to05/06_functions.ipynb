{
 "cells": [
  {
   "cell_type": "markdown",
   "metadata": {},
   "source": [
    "## 00_averages "
   ]
  },
  {
   "cell_type": "code",
   "execution_count": 3,
   "metadata": {},
   "outputs": [
    {
     "data": {
      "text/plain": [
       "25.0"
      ]
     },
     "execution_count": 3,
     "metadata": {},
     "output_type": "execute_result"
    }
   ],
   "source": [
    "def my_avg (num1,num2 ):\n",
    "    avg = (num1 + num2) /2\n",
    "    return avg\n",
    "\n",
    "user_input1 = int(input(\"Enter the first number : \"))\n",
    "user_input2 = int(input(\"Enter the second number : \"))\n",
    "\n",
    "my_avg(user_input1,user_input2)"
   ]
  },
  {
   "cell_type": "markdown",
   "metadata": {},
   "source": [
    "## 01_chaotic_counting"
   ]
  },
  {
   "cell_type": "code",
   "execution_count": null,
   "metadata": {},
   "outputs": [],
   "source": [
    "import random\n",
    "\n",
    "DONE_LIKELIHOOD = 0.3  # Adjust likelihood as needed\n",
    "def done():\n",
    "    return random.random() < DONE_LIKELIHOOD\n",
    "\n",
    "def chaotic_counting():\n",
    "    for i in range(1, 11):\n",
    "        if done():\n",
    "            return  # Stop execution if done() returns True\n",
    "        print(i, end=' ')\n",
    "\n",
    "def main():\n",
    "    print(\"I'm going to count until 10 or until I feel like stopping, whichever comes first.\")\n",
    "    chaotic_counting()\n",
    "    print(\"I'm done.\")\n",
    "\n",
    "if __name__ == \"__main__\":\n",
    "    main()\n",
    "\n",
    "\n",
    "# What the code does:\n",
    "# Imports random module\n",
    "\n",
    "# This is needed to generate random numbers.\n",
    "\n",
    "# Defines done() function\n",
    "\n",
    "# done() randomly decides if we should stop counting or not.\n",
    "\n",
    "# It returns True about 30% of the time (because of DONE_LIKELIHOOD = 0.3).\n",
    "\n",
    "# Otherwise, it returns False, meaning we keep counting.\n",
    "\n",
    "# Defines chaotic_counting() function\n",
    "\n",
    "# This function prints numbers from 1 to 10, but before printing each number, \n",
    "# it calls done() to check if we should stop early.\n",
    "\n",
    "# If done() says stop (True), the function ends immediately (using return).\n",
    "\n",
    "# If done() says continue (False), it prints the number.\n",
    "\n",
    "# Defines main() function\n",
    "\n",
    "# It prints a starting message.\n",
    "\n",
    "# Calls chaotic_counting(), which does the counting.\n",
    "\n",
    "# After chaotic_counting() finishes, it prints \"I'm done.\"\n",
    "\n",
    "# Runs the program (if __name__ == \"__main__\": main())\n",
    "\n",
    "# This makes sure that when we run the file, the main() function starts.\n",
    "\n"
   ]
  },
  {
   "cell_type": "markdown",
   "metadata": {},
   "source": [
    "## 02_even_count\n"
   ]
  },
  {
   "cell_type": "code",
   "execution_count": 8,
   "metadata": {},
   "outputs": [
    {
     "name": "stdout",
     "output_type": "stream",
     "text": [
      "5\n"
     ]
    }
   ],
   "source": [
    "def my_list():\n",
    "    lst = []\n",
    "\n",
    "    user_input= input(\"Enter the number : \")\n",
    "    while user_input != \"\":\n",
    "        lst.append(int(user_input))    \n",
    "        user_input = input(\"Enter an integer or press enter to stop: \")  \n",
    "        \n",
    "    return lst\n",
    "\n",
    "def count_fun(lst):\n",
    "        count = 0\n",
    "        for i in lst:\n",
    "            if i % 2 == 0 :\n",
    "                count +=1\n",
    "        print(count)\n",
    "        \n",
    "def main():\n",
    "    mylist = my_list()\n",
    "    count_fun(mylist)\n",
    "    \n",
    "main()"
   ]
  },
  {
   "cell_type": "markdown",
   "metadata": {},
   "source": [
    "## 04_double"
   ]
  },
  {
   "cell_type": "code",
   "execution_count": 11,
   "metadata": {},
   "outputs": [
    {
     "data": {
      "text/plain": [
       "('Double that is', 100)"
      ]
     },
     "execution_count": 11,
     "metadata": {},
     "output_type": "execute_result"
    }
   ],
   "source": [
    "def double_num(num):\n",
    "    return \"Double that is\", num *2\n",
    "\n",
    "user_num = int(input(\"Enter the number you want to double : \"))\n",
    "\n",
    "double_num(user_num)\n"
   ]
  },
  {
   "cell_type": "markdown",
   "metadata": {},
   "source": [
    "## 05_get_name"
   ]
  },
  {
   "cell_type": "code",
   "execution_count": 14,
   "metadata": {},
   "outputs": [
    {
     "data": {
      "text/plain": [
       "('Howday ', 'Talha', '!')"
      ]
     },
     "execution_count": 14,
     "metadata": {},
     "output_type": "execute_result"
    }
   ],
   "source": [
    "def get_name():\n",
    "    user_name = input(\"Enter your name : \")\n",
    "    return greet(user_name)\n",
    "    \n",
    "def greet(name):\n",
    "    return \"Howday \", name ,\"!\"\n",
    "\n",
    "get_name()"
   ]
  },
  {
   "cell_type": "markdown",
   "metadata": {},
   "source": [
    "## 06_is_odd"
   ]
  },
  {
   "cell_type": "code",
   "execution_count": 18,
   "metadata": {},
   "outputs": [
    {
     "name": "stdout",
     "output_type": "stream",
     "text": [
      "1 odd 2 even  3 odd 4 even  5 odd 6 even  7 odd 8 even  9 odd 10 even  11 odd 69 odd 70 even  "
     ]
    }
   ],
   "source": [
    "def my_list():\n",
    "    lst = []\n",
    "\n",
    "    user_input= input(\"Enter the number : \")\n",
    "    while user_input != \"\":\n",
    "        lst.append(int(user_input))    \n",
    "        user_input = input(\"Enter an integer or press enter to stop: \")  \n",
    "        \n",
    "    return lst\n",
    "\n",
    "def count_fun(lst):\n",
    "        for i in lst:\n",
    "            if i % 2 == 0 :\n",
    "                print(i,\"even \",end=\" \")\n",
    "            else : \n",
    "                print(i,\"odd \",end=\"\")\n",
    "        \n",
    "def main():\n",
    "    mylist = my_list()\n",
    "    count_fun(mylist)\n",
    "    \n",
    "main()"
   ]
  },
  {
   "cell_type": "markdown",
   "metadata": {},
   "source": [
    "## 07_print_divisior"
   ]
  },
  {
   "cell_type": "code",
   "execution_count": 22,
   "metadata": {},
   "outputs": [
    {
     "name": "stdout",
     "output_type": "stream",
     "text": [
      "1\n",
      "3\n",
      "5\n",
      "15\n"
     ]
    }
   ],
   "source": [
    "def divisior(num):\n",
    "    for i in range(num):\n",
    "        curr_num = i + 1\n",
    "        if num % curr_num == 0:\n",
    "            print(curr_num)\n",
    "            \n",
    "def my_num():\n",
    "    user_num= int(input(\"Enter the number : \"))\n",
    "    divisior(user_num)\n",
    "    \n",
    "my_num()"
   ]
  },
  {
   "cell_type": "markdown",
   "metadata": {},
   "source": [
    "## 08_print_multiple"
   ]
  },
  {
   "cell_type": "code",
   "execution_count": 23,
   "metadata": {},
   "outputs": [
    {
     "name": "stdout",
     "output_type": "stream",
     "text": [
      "April Fool April Fool April Fool April Fool April Fool "
     ]
    }
   ],
   "source": [
    "def my_inpo_fun():\n",
    "    user_message = input(\"Enter the message : \")\n",
    "    user_rep = int(input(\"Enter the repeat : \"))\n",
    "    my_repeat(user_message,user_rep)\n",
    "    \n",
    "def my_repeat(message,repaeat):\n",
    "    for i in range(repaeat):\n",
    "        print(message,end=\" \")\n",
    "        \n",
    "my_inpo_fun()\n",
    "    "
   ]
  },
  {
   "cell_type": "markdown",
   "metadata": {},
   "source": [
    "## 09_sentence_generator"
   ]
  },
  {
   "cell_type": "code",
   "execution_count": 24,
   "metadata": {},
   "outputs": [
    {
     "name": "stdout",
     "output_type": "stream",
     "text": [
      "It's so nice outside today it makes me want to house!\n"
     ]
    }
   ],
   "source": [
    "def make_sentence(word, part_of_speech):\n",
    "    if part_of_speech == 0:\n",
    "        print(f\"I am excited to add this {word} to my vast collection of them!\")\n",
    "    elif part_of_speech == 1:\n",
    "        print(f\"It's so nice outside today it makes me want to {word}!\")\n",
    "    elif part_of_speech == 2:\n",
    "        print(f\"Looking out my window, the sky is big and {word}!\")\n",
    "    else:\n",
    "        print(\"Invalid part of speech. Please enter 0 for noun, 1 for verb, or 2 for adjective.\")\n",
    "\n",
    "def main():\n",
    "    word = input(\"Please type a noun, verb, or adjective: \")\n",
    "    part_of_speech = int(input(\"Is this a noun, verb, or adjective? Type 0 for noun, 1 for verb, 2 for adjective: \"))\n",
    "    make_sentence(word, part_of_speech)\n",
    "\n",
    "main()"
   ]
  },
  {
   "cell_type": "markdown",
   "metadata": {},
   "source": [
    "## 10_ones_digit"
   ]
  },
  {
   "cell_type": "code",
   "execution_count": null,
   "metadata": {},
   "outputs": [],
   "source": [
    "def print_ones_digit(num):\n",
    "    ones_digit = num % 10  # Get the ones digit using modulo operator\n",
    "    print(f\"The ones digit is {ones_digit}\")\n",
    "\n",
    "def main():\n",
    "    num = int(input(\"Enter a number: \"))  # Get user input for number\n",
    "    print_ones_digit(num)  # Call function to print ones digit\n",
    "\n",
    "if __name__ == \"__main__\":\n",
    "    main()\n"
   ]
  }
 ],
 "metadata": {
  "kernelspec": {
   "display_name": "Python 3",
   "language": "python",
   "name": "python3"
  },
  "language_info": {
   "codemirror_mode": {
    "name": "ipython",
    "version": 3
   },
   "file_extension": ".py",
   "mimetype": "text/x-python",
   "name": "python",
   "nbconvert_exporter": "python",
   "pygments_lexer": "ipython3",
   "version": "3.13.1"
  }
 },
 "nbformat": 4,
 "nbformat_minor": 2
}
