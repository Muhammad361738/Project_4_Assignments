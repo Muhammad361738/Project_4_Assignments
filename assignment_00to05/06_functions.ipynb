{
 "cells": [
  {
   "cell_type": "markdown",
   "metadata": {},
   "source": [
    "## 00_averages "
   ]
  },
  {
   "cell_type": "code",
   "execution_count": 3,
   "metadata": {},
   "outputs": [
    {
     "data": {
      "text/plain": [
       "25.0"
      ]
     },
     "execution_count": 3,
     "metadata": {},
     "output_type": "execute_result"
    }
   ],
   "source": [
    "def my_avg (num1,num2 ):\n",
    "    avg = (num1 + num2) /2\n",
    "    return avg\n",
    "\n",
    "user_input1 = int(input(\"Enter the first number : \"))\n",
    "user_input2 = int(input(\"Enter the second number : \"))\n",
    "\n",
    "my_avg(user_input1,user_input2)"
   ]
  },
  {
   "cell_type": "markdown",
   "metadata": {},
   "source": [
    "## 01_chaotic_counting"
   ]
  },
  {
   "cell_type": "code",
   "execution_count": null,
   "metadata": {},
   "outputs": [],
   "source": [
    "import random\n",
    "\n",
    "DONE_LIKELIHOOD = 0.3  # Adjust likelihood as needed\n",
    "def done():\n",
    "    return random.random() < DONE_LIKELIHOOD\n",
    "\n",
    "def chaotic_counting():\n",
    "    for i in range(1, 11):\n",
    "        if done():\n",
    "            return  # Stop execution if done() returns True\n",
    "        print(i, end=' ')\n",
    "\n",
    "def main():\n",
    "    print(\"I'm going to count until 10 or until I feel like stopping, whichever comes first.\")\n",
    "    chaotic_counting()\n",
    "    print(\"I'm done.\")\n",
    "\n",
    "if __name__ == \"__main__\":\n",
    "    main()\n",
    "\n",
    "\n",
    "# What the code does:\n",
    "# Imports random module\n",
    "\n",
    "# This is needed to generate random numbers.\n",
    "\n",
    "# Defines done() function\n",
    "\n",
    "# done() randomly decides if we should stop counting or not.\n",
    "\n",
    "# It returns True about 30% of the time (because of DONE_LIKELIHOOD = 0.3).\n",
    "\n",
    "# Otherwise, it returns False, meaning we keep counting.\n",
    "\n",
    "# Defines chaotic_counting() function\n",
    "\n",
    "# This function prints numbers from 1 to 10, but before printing each number, \n",
    "# it calls done() to check if we should stop early.\n",
    "\n",
    "# If done() says stop (True), the function ends immediately (using return).\n",
    "\n",
    "# If done() says continue (False), it prints the number.\n",
    "\n",
    "# Defines main() function\n",
    "\n",
    "# It prints a starting message.\n",
    "\n",
    "# Calls chaotic_counting(), which does the counting.\n",
    "\n",
    "# After chaotic_counting() finishes, it prints \"I'm done.\"\n",
    "\n",
    "# Runs the program (if __name__ == \"__main__\": main())\n",
    "\n",
    "# This makes sure that when we run the file, the main() function starts.\n",
    "\n"
   ]
  },
  {
   "cell_type": "markdown",
   "metadata": {},
   "source": [
    "## 02_even_count\n"
   ]
  },
  {
   "cell_type": "code",
   "execution_count": 8,
   "metadata": {},
   "outputs": [
    {
     "name": "stdout",
     "output_type": "stream",
     "text": [
      "5\n"
     ]
    }
   ],
   "source": [
    "def my_list():\n",
    "    lst = []\n",
    "\n",
    "    user_input= input(\"Enter the number : \")\n",
    "    while user_input != \"\":\n",
    "        lst.append(int(user_input))    \n",
    "        user_input = input(\"Enter an integer or press enter to stop: \")  \n",
    "        \n",
    "    return lst\n",
    "\n",
    "def count_fun(lst):\n",
    "        count = 0\n",
    "        for i in lst:\n",
    "            if i % 2 == 0 :\n",
    "                count +=1\n",
    "        print(count)\n",
    "        \n",
    "def main():\n",
    "    mylist = my_list()\n",
    "    count_fun(mylist)\n",
    "    \n",
    "main()"
   ]
  },
  {
   "cell_type": "markdown",
   "metadata": {},
   "source": [
    "## 04_double"
   ]
  },
  {
   "cell_type": "code",
   "execution_count": 11,
   "metadata": {},
   "outputs": [
    {
     "data": {
      "text/plain": [
       "('Double that is', 100)"
      ]
     },
     "execution_count": 11,
     "metadata": {},
     "output_type": "execute_result"
    }
   ],
   "source": [
    "def double_num(num):\n",
    "    return \"Double that is\", num *2\n",
    "\n",
    "user_num = int(input(\"Enter the number you want to double : \"))\n",
    "\n",
    "double_num(user_num)\n"
   ]
  },
  {
   "cell_type": "markdown",
   "metadata": {},
   "source": [
    "## 05_get_name"
   ]
  },
  {
   "cell_type": "code",
   "execution_count": 14,
   "metadata": {},
   "outputs": [
    {
     "data": {
      "text/plain": [
       "('Howday ', 'Talha', '!')"
      ]
     },
     "execution_count": 14,
     "metadata": {},
     "output_type": "execute_result"
    }
   ],
   "source": [
    "def get_name():\n",
    "    user_name = input(\"Enter your name : \")\n",
    "    return greet(user_name)\n",
    "    \n",
    "def greet(name):\n",
    "    return \"Howday \", name ,\"!\"\n",
    "\n",
    "get_name()"
   ]
  },
  {
   "cell_type": "markdown",
   "metadata": {},
   "source": [
    "## 06_is_odd"
   ]
  },
  {
   "cell_type": "code",
   "execution_count": 18,
   "metadata": {},
   "outputs": [
    {
     "name": "stdout",
     "output_type": "stream",
     "text": [
      "1 odd 2 even  3 odd 4 even  5 odd 6 even  7 odd 8 even  9 odd 10 even  11 odd 69 odd 70 even  "
     ]
    }
   ],
   "source": [
    "def my_list():\n",
    "    lst = []\n",
    "\n",
    "    user_input= input(\"Enter the number : \")\n",
    "    while user_input != \"\":\n",
    "        lst.append(int(user_input))    \n",
    "        user_input = input(\"Enter an integer or press enter to stop: \")  \n",
    "        \n",
    "    return lst\n",
    "\n",
    "def count_fun(lst):\n",
    "        for i in lst:\n",
    "            if i % 2 == 0 :\n",
    "                print(i,\"even \",end=\" \")\n",
    "            else : \n",
    "                print(i,\"odd \",end=\"\")\n",
    "        \n",
    "def main():\n",
    "    mylist = my_list()\n",
    "    count_fun(mylist)\n",
    "    \n",
    "main()"
   ]
  },
  {
   "cell_type": "code",
   "execution_count": null,
   "metadata": {},
   "outputs": [],
   "source": []
  }
 ],
 "metadata": {
  "kernelspec": {
   "display_name": "Python 3",
   "language": "python",
   "name": "python3"
  },
  "language_info": {
   "codemirror_mode": {
    "name": "ipython",
    "version": 3
   },
   "file_extension": ".py",
   "mimetype": "text/x-python",
   "name": "python",
   "nbconvert_exporter": "python",
   "pygments_lexer": "ipython3",
   "version": "3.13.1"
  }
 },
 "nbformat": 4,
 "nbformat_minor": 2
}
