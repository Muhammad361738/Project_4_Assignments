{
 "cells": [
  {
   "cell_type": "markdown",
   "metadata": {},
   "source": [
    "## 01_add_many_number"
   ]
  },
  {
   "cell_type": "code",
   "execution_count": 16,
   "metadata": {},
   "outputs": [
    {
     "name": "stdout",
     "output_type": "stream",
     "text": [
      "150\n"
     ]
    }
   ],
   "source": [
    "def add_many_number(user_numbers):\n",
    "    sum : int = 0\n",
    "    for i in user_numbers :\n",
    "        convert_interger = int(i)\n",
    "        sum += convert_interger\n",
    "    print(sum)\n",
    "\n",
    "user_input = input(\"Enter the Number with sapcess : \")\n",
    "my_List = user_input.split()\n",
    "    \n",
    "\n",
    "if __name__ == \"__main__\":\n",
    "    add_many_number(my_List)\n"
   ]
  },
  {
   "cell_type": "markdown",
   "metadata": {},
   "source": [
    "## 02_double_list"
   ]
  },
  {
   "cell_type": "code",
   "execution_count": 3,
   "metadata": {},
   "outputs": [
    {
     "name": "stdout",
     "output_type": "stream",
     "text": [
      "[20, 40, 60, 80, 100, 120, 140, 160, 180, 200]\n"
     ]
    }
   ],
   "source": [
    "def double_list (user_list):\n",
    "    double_list = []\n",
    "    for i in user_list:\n",
    "         convert_interger = int(i)\n",
    "         convert_interger = convert_interger * 2\n",
    "         double_list.append(convert_interger)\n",
    "    print(double_list)\n",
    "\n",
    "user_input = input(\"Enter the Number with sapcess : \")\n",
    "my_List = user_input.split()\n",
    "    \n",
    "\n",
    "if __name__ == \"__main__\":\n",
    "    double_list(my_List)\n",
    "\n",
    "    "
   ]
  },
  {
   "cell_type": "markdown",
   "metadata": {},
   "source": [
    "## 04_flowing_with_data_structures"
   ]
  },
  {
   "cell_type": "code",
   "execution_count": 4,
   "metadata": {},
   "outputs": [
    {
     "name": "stdout",
     "output_type": "stream",
     "text": [
      "List before: []\n",
      "List after: ['hellow world', 'hellow world', 'hellow world']\n"
     ]
    }
   ],
   "source": [
    "def add_three_copies(my_list, data):\n",
    "    for i in range(3):\n",
    "        my_list.append(data)\n",
    "\n",
    "########## No need to edit code past this point\n",
    "\n",
    "def main():\n",
    "    message = input(\"Enter a message to copy: \")\n",
    "    my_list = []\n",
    "    print(\"List before:\", my_list)\n",
    "    add_three_copies(my_list, message)\n",
    "    print(\"List after:\", my_list)\n",
    "\n",
    "if __name__ == \"__main__\":\n",
    "    main()\n"
   ]
  },
  {
   "cell_type": "markdown",
   "metadata": {},
   "source": [
    "## 05_get_first_element"
   ]
  },
  {
   "cell_type": "code",
   "execution_count": 5,
   "metadata": {},
   "outputs": [
    {
     "name": "stdout",
     "output_type": "stream",
     "text": [
      "10 20 30 40 \n"
     ]
    }
   ],
   "source": [
    "\n",
    "def get_first_element(lst):\n",
    "    \"\"\"\n",
    "    Prints the first element of a provided list.\n",
    "    \"\"\"\n",
    "\n",
    "    print(lst[0])\n",
    "\n",
    "# There is no need to edit code beyond this point\n",
    "\n",
    "def get_lst():\n",
    "    \"\"\"\n",
    "    Prompts the user to enter one element of the list at a time and returns the resulting list.\n",
    "    \"\"\"\n",
    "    lst = []\n",
    "    elem: str = input(\"Please enter an element of the list or press enter to stop. \")\n",
    "    while elem != \"\":\n",
    "        lst.append(elem)\n",
    "        elem = input(\"Please enter an element of the list or press enter to stop. \")\n",
    "    return lst\n",
    "\n",
    "def main():\n",
    "    lst = get_lst()\n",
    "    get_first_element(lst)\n",
    "\n",
    "\n",
    "if __name__ == '__main__':\n",
    "    main()\n",
    "\n"
   ]
  },
  {
   "cell_type": "code",
   "execution_count": null,
   "metadata": {},
   "outputs": [
    {
     "name": "stdout",
     "output_type": "stream",
     "text": [
      "[10, 20, 30, 40, 50]\n",
      "10\n"
     ]
    }
   ],
   "source": [
    "def call_first_element(lst):\n",
    "    print(lst[0])\n",
    "\n",
    "def my_list ():\n",
    "    lst = []\n",
    "\n",
    "    number_of_element = int(input(\"Enter the number of element in List : \"))\n",
    "    for i in range(number_of_element):\n",
    "        user_element = int(input(f\"Enter the Element {i+1}: \"))\n",
    "        lst.append(user_element)\n",
    "    \n",
    "    call_first_element(lst)\n",
    "        \n",
    "if __name__ == \"__main__\":\n",
    "    my_list()"
   ]
  },
  {
   "cell_type": "markdown",
   "metadata": {},
   "source": [
    "## 06_get_last_element "
   ]
  },
  {
   "cell_type": "code",
   "execution_count": null,
   "metadata": {},
   "outputs": [
    {
     "name": "stdout",
     "output_type": "stream",
     "text": [
      "50\n"
     ]
    }
   ],
   "source": [
    "def call_last_element(lst):\n",
    "    print(lst[-1])\n",
    "\n",
    "def my_list ():\n",
    "    lst = []\n",
    "\n",
    "    number_of_element = int(input(\"Enter the number of element in List : \"))\n",
    "    for i in range(number_of_element):\n",
    "        user_element = int(input(f\"Enter the Element {i+1}: \"))\n",
    "        lst.append(user_element)\n",
    "    \n",
    "    call_last_element(lst)\n",
    "        \n",
    "if __name__ == \"__main__\":\n",
    "    my_list()"
   ]
  },
  {
   "cell_type": "markdown",
   "metadata": {},
   "source": [
    "## 07_get_list"
   ]
  },
  {
   "cell_type": "code",
   "execution_count": null,
   "metadata": {},
   "outputs": [
    {
     "name": "stdout",
     "output_type": "stream",
     "text": [
      "Here's the list: ['10', '20', '30']\n"
     ]
    }
   ],
   "source": [
    "def collect_values():\n",
    "    lst = []\n",
    "    while True:\n",
    "        user_input = input(\"Enter a value: \")\n",
    "        if user_input == \"\":  \n",
    "            break\n",
    "        lst.append(user_input)\n",
    "    \n",
    "    print(\"Here's the list:\", lst)\n",
    "\n",
    "if __name__ == \"__main__\":\n",
    "    collect_values()\n"
   ]
  },
  {
   "cell_type": "markdown",
   "metadata": {},
   "source": [
    "## 08_shorten_list"
   ]
  },
  {
   "cell_type": "code",
   "execution_count": 15,
   "metadata": {},
   "outputs": [
    {
     "name": "stdout",
     "output_type": "stream",
     "text": [
      "sufyan\n",
      "zeeshan\n",
      "salman\n",
      "Final list: ['talha', 'zain', 'waqar']\n"
     ]
    }
   ],
   "source": [
    "MAX_LENGTH = 3  # Required constraint\n",
    "\n",
    "def shorten(lst):\n",
    "    while len(lst) > MAX_LENGTH:  # Keep removing until the length is 3\n",
    "        removed_item = lst.pop()  # Remove the last element\n",
    "        print(removed_item)  # Print the removed item\n",
    "\n",
    "def main():\n",
    "    lst = input(\"Enter space-separated list elements: \").split()  # Get input as a list\n",
    "    shorten(lst)\n",
    "    print(\"Final list:\", lst)  # Print the remaining list\n",
    "\n",
    "if __name__ == \"__main__\":\n",
    "    main()\n"
   ]
  },
  {
   "cell_type": "code",
   "execution_count": null,
   "metadata": {},
   "outputs": [],
   "source": []
  }
 ],
 "metadata": {
  "kernelspec": {
   "display_name": "Python 3",
   "language": "python",
   "name": "python3"
  },
  "language_info": {
   "codemirror_mode": {
    "name": "ipython",
    "version": 3
   },
   "file_extension": ".py",
   "mimetype": "text/x-python",
   "name": "python",
   "nbconvert_exporter": "python",
   "pygments_lexer": "ipython3",
   "version": "3.13.1"
  }
 },
 "nbformat": 4,
 "nbformat_minor": 2
}
