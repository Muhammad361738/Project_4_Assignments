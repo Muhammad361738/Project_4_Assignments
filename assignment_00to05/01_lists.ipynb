{
 "cells": [
  {
   "cell_type": "markdown",
   "metadata": {},
   "source": [
    "## 01_add_many_number"
   ]
  },
  {
   "cell_type": "code",
   "execution_count": 16,
   "metadata": {},
   "outputs": [
    {
     "name": "stdout",
     "output_type": "stream",
     "text": [
      "150\n"
     ]
    }
   ],
   "source": [
    "def add_many_number(user_numbers):\n",
    "    sum : int = 0\n",
    "    for i in user_numbers :\n",
    "        convert_interger = int(i)\n",
    "        sum += convert_interger\n",
    "    print(sum)\n",
    "\n",
    "user_input = input(\"Enter the Number with sapcess : \")\n",
    "my_List = user_input.split()\n",
    "    \n",
    "\n",
    "if __name__ == \"__main__\":\n",
    "    add_many_number(my_List)\n"
   ]
  },
  {
   "cell_type": "markdown",
   "metadata": {},
   "source": [
    "## 02_double_list"
   ]
  },
  {
   "cell_type": "code",
   "execution_count": 19,
   "metadata": {},
   "outputs": [
    {
     "name": "stdout",
     "output_type": "stream",
     "text": [
      "6\n"
     ]
    }
   ],
   "source": [
    "def double_list (user_list):\n",
    "    double_list = []\n",
    "    for i in user_list:\n",
    "         convert_interger = int(i)\n",
    "         convert_interger = convert_interger * 2\n",
    "         double_list.append(convert_interger)\n",
    "    print(double_list)\n",
    "\n",
    "user_input = input(\"Enter the Number with sapcess : \")\n",
    "my_List = user_input.split()\n",
    "    \n",
    "\n",
    "if __name__ == \"__main__\":\n",
    "    add_many_number(my_List)\n",
    "\n",
    "    "
   ]
  },
  {
   "cell_type": "code",
   "execution_count": null,
   "metadata": {},
   "outputs": [],
   "source": []
  },
  {
   "cell_type": "code",
   "execution_count": null,
   "metadata": {},
   "outputs": [],
   "source": []
  }
 ],
 "metadata": {
  "kernelspec": {
   "display_name": "Python 3",
   "language": "python",
   "name": "python3"
  },
  "language_info": {
   "codemirror_mode": {
    "name": "ipython",
    "version": 3
   },
   "file_extension": ".py",
   "mimetype": "text/x-python",
   "name": "python",
   "nbconvert_exporter": "python",
   "pygments_lexer": "ipython3",
   "version": "3.13.1"
  }
 },
 "nbformat": 4,
 "nbformat_minor": 2
}
