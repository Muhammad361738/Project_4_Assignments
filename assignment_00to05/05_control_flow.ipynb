{
 "cells": [
  {
   "cell_type": "markdown",
   "metadata": {},
   "source": [
    "## 00_guewss-my_number "
   ]
  },
  {
   "cell_type": "code",
   "execution_count": 2,
   "metadata": {},
   "outputs": [
    {
     "name": "stdout",
     "output_type": "stream",
     "text": [
      "I am thinking a nunumber between 1 to 99\n",
      "your guess is too high : \n",
      "your guess is too high : \n",
      "your guess is too high : \n",
      "your guess is too high : \n",
      "Congrats! The number was: 35\n"
     ]
    }
   ],
   "source": [
    "import random\n",
    "com_num = random.randint(1,99)\n",
    "\n",
    "print(\"I am thinking a nunumber between 1 to 99\")\n",
    "\n",
    "user_num = int(input(\"Enter the guess : \"  ))\n",
    "while user_num != com_num:\n",
    "    if user_num < com_num:\n",
    "        print(\"your guess is to low : \")\n",
    "    else:\n",
    "        print(\"your guess is too high : \")\n",
    "    \n",
    "    user_num = int(input(\"Enter the new  guess : \"  ))\n",
    "    \n",
    "\n",
    "print(\"Congrats! The number was: \" + str(user_num))\n",
    "\n",
    "\n"
   ]
  },
  {
   "cell_type": "markdown",
   "metadata": {},
   "source": [
    "## 01_fabnocci"
   ]
  },
  {
   "cell_type": "code",
   "execution_count": 7,
   "metadata": {},
   "outputs": [
    {
     "name": "stdout",
     "output_type": "stream",
     "text": [
      "0 1 1 2 3 5 8 13 21 34 55 89 144 233 377 610 987 "
     ]
    }
   ],
   "source": [
    "max_trem = 1000\n",
    "\n",
    "curr_trem = 0\n",
    "next_trem = 1\n",
    "\n",
    "while curr_trem <= max_trem:\n",
    "    print(curr_trem,end=\" \")\n",
    "    trem_after_next = curr_trem + next_trem\n",
    "    curr_trem = next_trem\n",
    "    next_trem = trem_after_next\n",
    "    \n",
    "    "
   ]
  },
  {
   "cell_type": "markdown",
   "metadata": {},
   "source": [
    "## 02_print_even"
   ]
  },
  {
   "cell_type": "code",
   "execution_count": 9,
   "metadata": {},
   "outputs": [
    {
     "name": "stdout",
     "output_type": "stream",
     "text": [
      "0  , 2  , 4  , 6  , 8  , 10  , 12  , 14  , 16  , 18  , 20  , 22  , 24  , 26  , 28  , 30  , 32  , 34  , 36  , 38  , "
     ]
    }
   ],
   "source": [
    "for i in range (20):\n",
    "    print(i*2,end=\"  , \")"
   ]
  },
  {
   "cell_type": "markdown",
   "metadata": {},
   "source": [
    "## 03_whole_some_machine"
   ]
  },
  {
   "cell_type": "code",
   "execution_count": 10,
   "metadata": {},
   "outputs": [
    {
     "name": "stdout",
     "output_type": "stream",
     "text": [
      "Please type the following affirmation: I am capable of doing anything I put my mind to.\n",
      "That is inncorrect affermation : \n",
      "Please type the correct affermation :  I am capable of doing anything I put my mind to.\n",
      "That is inncorrect affermation : \n",
      "Please type the correct affermation :  I am capable of doing anything I put my mind to.\n",
      "Thats Right \n"
     ]
    }
   ],
   "source": [
    "my_affer = \"I am capable of doing anything I put my mind to.\"\n",
    "\n",
    "print(\"Please type the following affirmation: \" + my_affer)\n",
    "\n",
    "user_inp = input(\"Enter the affer : \")\n",
    "while user_inp != my_affer :\n",
    "     print(\"That is inncorrect affermation : \")\n",
    "     print(\"Please type the correct affermation : \",my_affer)\n",
    "     user_inp = input(\"Try again  : \")\n",
    "\n",
    "print(\"Thats Right \")\n"
   ]
  },
  {
   "cell_type": "code",
   "execution_count": null,
   "metadata": {},
   "outputs": [],
   "source": []
  }
 ],
 "metadata": {
  "kernelspec": {
   "display_name": "Python 3",
   "language": "python",
   "name": "python3"
  },
  "language_info": {
   "codemirror_mode": {
    "name": "ipython",
    "version": 3
   },
   "file_extension": ".py",
   "mimetype": "text/x-python",
   "name": "python",
   "nbconvert_exporter": "python",
   "pygments_lexer": "ipython3",
   "version": "3.13.1"
  }
 },
 "nbformat": 4,
 "nbformat_minor": 2
}
