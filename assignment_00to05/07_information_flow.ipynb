{
 "cells": [
  {
   "cell_type": "markdown",
   "metadata": {},
   "source": [
    "## 00_chosing_returns"
   ]
  },
  {
   "cell_type": "code",
   "execution_count": 2,
   "metadata": {},
   "outputs": [
    {
     "data": {
      "text/plain": [
       "False"
      ]
     },
     "execution_count": 2,
     "metadata": {},
     "output_type": "execute_result"
    }
   ],
   "source": [
    "adult_age = 18\n",
    "def chect_is_adult (age):\n",
    "    if age >= adult_age:\n",
    "        return True\n",
    "    return False\n",
    "\n",
    "\n",
    "user_age = int(input(\"Enter your age : \"))\n",
    "chect_is_adult(user_age)"
   ]
  },
  {
   "cell_type": "markdown",
   "metadata": {},
   "source": [
    "## 01_greeting"
   ]
  },
  {
   "cell_type": "code",
   "execution_count": 5,
   "metadata": {},
   "outputs": [
    {
     "name": "stdout",
     "output_type": "stream",
     "text": [
      "Greetings Talha !\n"
     ]
    }
   ],
   "source": [
    "def my_main_fun():\n",
    "    user_name = input(\"Enter your name : \")\n",
    "    print(greet_fun(user_name))\n",
    "    \n",
    "    \n",
    "def greet_fun(name):\n",
    "    return \"Greetings \" +  name +\" !\"\n",
    "\n",
    "my_main_fun()"
   ]
  },
  {
   "cell_type": "markdown",
   "metadata": {},
   "source": [
    "## 02_range"
   ]
  },
  {
   "cell_type": "code",
   "execution_count": 8,
   "metadata": {},
   "outputs": [
    {
     "data": {
      "text/plain": [
       "False"
      ]
     },
     "execution_count": 8,
     "metadata": {},
     "output_type": "execute_result"
    }
   ],
   "source": [
    "def my_number_range(num,high,low):\n",
    "    if num >= low and num <= high : \n",
    "        return True\n",
    "    return False\n",
    "\n",
    "user_num = int(input(\"Enter the number between low and high : \"))\n",
    "user_high = int(input(\"Enter the high number : \"))\n",
    "user_low = int(input(\"Enter the low number : \"))\n",
    "\n",
    "my_number_range(user_num,user_high,user_low)\n"
   ]
  },
  {
   "cell_type": "markdown",
   "metadata": {},
   "source": [
    "## 03_in_stock.md"
   ]
  },
  {
   "cell_type": "code",
   "execution_count": 10,
   "metadata": {},
   "outputs": [
    {
     "name": "stdout",
     "output_type": "stream",
     "text": [
      "this fruit is in our stock =  20\n"
     ]
    }
   ],
   "source": [
    "def our_inpo_fun():\n",
    "    user_fruit = input(\"Enter the fruit name \").lower()\n",
    "    stock = my_stock(user_fruit)\n",
    "    if stock == 0:\n",
    "        print(\"this fruit is not in stock : \")\n",
    "    else:\n",
    "        print(\"this fruit is in our stock = \", stock)\n",
    "\n",
    "def my_stock (fruit):\n",
    "    if fruit == \"apple\":\n",
    "        return 20\n",
    "    if fruit == \"mango\":\n",
    "        return 50\n",
    "    if fruit == \"orange\":\n",
    "        return 80\n",
    "    else :\n",
    "        return 0\n",
    "    \n",
    "our_inpo_fun()"
   ]
  },
  {
   "cell_type": "markdown",
   "metadata": {},
   "source": [
    "## 04_multiple_return "
   ]
  },
  {
   "cell_type": "code",
   "execution_count": null,
   "metadata": {},
   "outputs": [
    {
     "name": "stdout",
     "output_type": "stream",
     "text": [
      "('Muhammad', 'Talha', 'abc@gmail.com')\n"
     ]
    }
   ],
   "source": [
    "def get_user_info():\n",
    "    first_name: str = input(\"What is your first name?: \")\n",
    "    last_name: str = input(\"What is your last name?: \")\n",
    "    email_address : str = input(\"What is your email address?: \")\n",
    "    \n",
    "    return first_name, last_name, email_address\n",
    "\n",
    "get_user_info()"
   ]
  },
  {
   "cell_type": "markdown",
   "metadata": {},
   "source": [
    "## 05_subtract_7"
   ]
  },
  {
   "cell_type": "code",
   "execution_count": 13,
   "metadata": {},
   "outputs": [
    {
     "name": "stdout",
     "output_type": "stream",
     "text": [
      "Result after subtracting 7: 23\n"
     ]
    }
   ],
   "source": [
    "def subtract_seven(num):\n",
    "    return num - 7\n",
    "\n",
    "def main():\n",
    "    num = int(input(\"Enter a number: \"))  \n",
    "    result = subtract_seven(num)  #\n",
    "    print(f\"Result after subtracting 7: {result}\")  \n",
    "\n",
    "main()\n"
   ]
  },
  {
   "cell_type": "code",
   "execution_count": null,
   "metadata": {},
   "outputs": [],
   "source": []
  }
 ],
 "metadata": {
  "kernelspec": {
   "display_name": "Python 3",
   "language": "python",
   "name": "python3"
  },
  "language_info": {
   "codemirror_mode": {
    "name": "ipython",
    "version": 3
   },
   "file_extension": ".py",
   "mimetype": "text/x-python",
   "name": "python",
   "nbconvert_exporter": "python",
   "pygments_lexer": "ipython3",
   "version": "3.13.1"
  }
 },
 "nbformat": 4,
 "nbformat_minor": 2
}
