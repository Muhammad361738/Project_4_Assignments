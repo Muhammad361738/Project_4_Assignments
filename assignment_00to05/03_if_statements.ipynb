{
 "cells": [
  {
   "cell_type": "markdown",
   "metadata": {},
   "source": [
    "## 01_print_events"
   ]
  },
  {
   "cell_type": "code",
   "execution_count": 1,
   "metadata": {},
   "outputs": [
    {
     "name": "stdout",
     "output_type": "stream",
     "text": [
      "0\n",
      "2\n",
      "4\n",
      "6\n",
      "8\n",
      "10\n",
      "12\n",
      "14\n",
      "16\n",
      "18\n",
      "20\n",
      "22\n",
      "24\n",
      "26\n",
      "28\n",
      "30\n",
      "32\n",
      "34\n",
      "36\n",
      "38\n"
     ]
    }
   ],
   "source": [
    "for i in range(20):\n",
    "    print(i * 2)\n"
   ]
  },
  {
   "cell_type": "markdown",
   "metadata": {},
   "source": [
    "## 02_international_voting_age"
   ]
  },
  {
   "cell_type": "code",
   "execution_count": 4,
   "metadata": {},
   "outputs": [
    {
     "name": "stdout",
     "output_type": "stream",
     "text": [
      "You can vote in Peturksbouipo where the voting age is 16.\n",
      "You can vote in Stanlau where the voting age is 25.\n",
      "You can vote in Mayengua where the voting age is 48.\n"
     ]
    }
   ],
   "source": [
    "# Ask the user for their age\n",
    "age = int(input(\"How old are you? \"))\n",
    "\n",
    "# Check voting eligibility in Peturksbouipo\n",
    "if age >= 16:\n",
    "    print(f\"You can vote in Peturksbouipo where the voting age is 16.\")\n",
    "else:\n",
    "    print(f\"You cannot vote in Peturksbouipo where the voting age is 16.\")\n",
    "\n",
    "# Check voting eligibility in Stanlau\n",
    "if age >= 25:\n",
    "    print(f\"You can vote in Stanlau where the voting age is 25.\")\n",
    "else:\n",
    "    print(f\"You cannot vote in Stanlau where the voting age is 25.\")\n",
    "\n",
    "# Check voting eligibility in Mayengua\n",
    "if age >= 48:\n",
    "    print(f\"You can vote in Mayengua where the voting age is 48.\")\n",
    "else:\n",
    "    print(f\"You cannot vote in Mayengua where the voting age is 48.\")\n"
   ]
  },
  {
   "cell_type": "markdown",
   "metadata": {},
   "source": [
    "## 03_leap_year\n"
   ]
  },
  {
   "cell_type": "code",
   "execution_count": 5,
   "metadata": {},
   "outputs": [
    {
     "name": "stdout",
     "output_type": "stream",
     "text": [
      "That's a leap year!\n"
     ]
    }
   ],
   "source": [
    "# Ask the user for the year\n",
    "year = int(input(\"Enter a year: \"))\n",
    "\n",
    "# Check if the year is a leap year using the correct criteria\n",
    "if year % 4 == 0:\n",
    "    if year % 100 == 0:\n",
    "        if year % 400 == 0:\n",
    "            print(\"That's a leap year!\")\n",
    "        else:\n",
    "            print(\"That's not a leap year.\")\n",
    "    else:\n",
    "        print(\"That's a leap year!\")\n",
    "else:\n",
    "    print(\"That's not a leap year.\")\n"
   ]
  },
  {
   "cell_type": "markdown",
   "metadata": {},
   "source": [
    "## 04_tall_enough_to_ride"
   ]
  },
  {
   "cell_type": "code",
   "execution_count": 6,
   "metadata": {},
   "outputs": [
    {
     "name": "stdout",
     "output_type": "stream",
     "text": [
      "You're tall enough to ride!\n"
     ]
    }
   ],
   "source": [
    "min_height = 50\n",
    "\n",
    "height = int(input(\"How tall are you? \"))\n",
    "\n",
    "if height >= min_height:\n",
    "    print(\"You're tall enough to ride!\")\n",
    "else:\n",
    "    print(\"You're not tall enough to ride, but maybe next year!\")\n"
   ]
  },
  {
   "cell_type": "markdown",
   "metadata": {},
   "source": [
    "## 05_random_number"
   ]
  },
  {
   "cell_type": "code",
   "execution_count": 9,
   "metadata": {},
   "outputs": [
    {
     "name": "stdout",
     "output_type": "stream",
     "text": [
      "35 99 89 32 52 83 31 39 76 93 "
     ]
    }
   ],
   "source": [
    "import random\n",
    "\n",
    "# Print 10 random numbers in the range 1 to 100\n",
    "for i in range(10):\n",
    "    print(random.randint(1, 100), end=\" \")\n"
   ]
  },
  {
   "cell_type": "code",
   "execution_count": null,
   "metadata": {},
   "outputs": [],
   "source": []
  },
  {
   "cell_type": "code",
   "execution_count": null,
   "metadata": {},
   "outputs": [],
   "source": []
  }
 ],
 "metadata": {
  "kernelspec": {
   "display_name": "Python 3",
   "language": "python",
   "name": "python3"
  },
  "language_info": {
   "codemirror_mode": {
    "name": "ipython",
    "version": 3
   },
   "file_extension": ".py",
   "mimetype": "text/x-python",
   "name": "python",
   "nbconvert_exporter": "python",
   "pygments_lexer": "ipython3",
   "version": "3.13.1"
  }
 },
 "nbformat": 4,
 "nbformat_minor": 2
}
