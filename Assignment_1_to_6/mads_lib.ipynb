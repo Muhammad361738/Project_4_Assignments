{
 "cells": [
  {
   "cell_type": "markdown",
   "metadata": {},
   "source": [
    "## Mad libs Python Project"
   ]
  },
  {
   "cell_type": "code",
   "execution_count": 2,
   "metadata": {},
   "outputs": [
    {
     "name": "stdout",
     "output_type": "stream",
     "text": [
      "Python Debugging Adventure\n",
      "One day, Talha was coding a new project when suddenly, a wild value error  appeared!  \n",
      "        The program crashed, and Talha felt shocked.  \n",
      "\n",
      "        Determined to fix it, they opened python interpriter and carefully analyzed the error message.  \n",
      "        After a few deep breaths and some trial-and-error, Talha finally fixed the issue! 🎉  \n",
      "\n",
      "        Now, the program runs perfectly, and Talha is ready for the next coding challenge! 🚀\n",
      "        \n"
     ]
    }
   ],
   "source": [
    "try:\n",
    "    print(\"Python Debugging Adventure\")\n",
    "    def mid_lib_game(user_name,bug_type,programming_tool,emotion ):\n",
    "        print(f\"\"\"One day, {user_name} was coding a new project when suddenly, a wild {bug_type} appeared!  \n",
    "        The program crashed, and {user_name} felt {emotion}.  \n",
    "\n",
    "        Determined to fix it, they opened {programming_tool} and carefully analyzed the error message.  \n",
    "        After a few deep breaths and some trial-and-error, {user_name} finally fixed the issue! 🎉  \n",
    "\n",
    "        Now, the program runs perfectly, and {user_name} is ready for the next coding challenge! 🚀\n",
    "        \"\"\"\n",
    "        )\n",
    "    user_name = input(\"Enter your name (e.g., Talha): \")\n",
    "    bug_type = input(\"Enter a type of coding bug (e.g., Syntax Error): \")\n",
    "    programming_tool = input(\"Enter a programming tool or language (e.g., Python Debugger): \")\n",
    "    emotion = input(\"Enter an emotion (e.g., Excited, Frustrated): \")\n",
    "\n",
    "    mid_lib_game(user_name,bug_type,programming_tool,emotion)\n",
    "\n",
    "\n",
    "        \n",
    "except :\n",
    "    print(\"Input must be string : \")"
   ]
  },
  {
   "cell_type": "code",
   "execution_count": null,
   "metadata": {},
   "outputs": [],
   "source": []
  }
 ],
 "metadata": {
  "kernelspec": {
   "display_name": "Python 3",
   "language": "python",
   "name": "python3"
  },
  "language_info": {
   "codemirror_mode": {
    "name": "ipython",
    "version": 3
   },
   "file_extension": ".py",
   "mimetype": "text/x-python",
   "name": "python",
   "nbconvert_exporter": "python",
   "pygments_lexer": "ipython3",
   "version": "3.13.1"
  }
 },
 "nbformat": 4,
 "nbformat_minor": 2
}
