{
 "cells": [
  {
   "cell_type": "markdown",
   "metadata": {},
   "source": [
    "## Rock, paper, scissors Python Project"
   ]
  },
  {
   "cell_type": "code",
   "execution_count": 12,
   "metadata": {},
   "outputs": [
    {
     "name": "stdout",
     "output_type": "stream",
     "text": [
      "Enter one option:\n",
      "1: Rock\n",
      "2: Paper\n",
      "3: Scissors\n",
      "Player chose: scissors\n",
      "Computer chose: scissors\n",
      "It's a tie!\n"
     ]
    }
   ],
   "source": [
    "import random\n",
    "\n",
    "def rock_paper_scissor(user_choice):\n",
    "    choices = [\"rock\", \"paper\", \"scissors\"]\n",
    "    \n",
    "    # Mapping user input to string values\n",
    "    if user_choice in [1, 2, 3]:\n",
    "        user_choice = choices[user_choice - 1]\n",
    "    else:\n",
    "        print(\"Invalid choice! Please enter 1, 2, or 3.\")\n",
    "        return  # Exit function early if input is invalid\n",
    "\n",
    "    # Computer makes a random choice\n",
    "    computer_choice = random.choice(choices)\n",
    "    \n",
    "    print(f\"Player chose: {user_choice}\")\n",
    "    print(f\"Computer chose: {computer_choice}\")\n",
    "\n",
    "    # Determine the winner\n",
    "    if user_choice == computer_choice:\n",
    "        print(\"It's a tie!\")\n",
    "    elif (user_choice == \"rock\" and computer_choice == \"scissors\"):\n",
    "         print(\"Player wins!\")\n",
    "    elif (user_choice == \"paper\" and computer_choice == \"rock\"):\n",
    "         print(\"Player wins!\")\n",
    "    elif (user_choice == \"scissors\" and computer_choice == \"paper\"):\n",
    "        print(\"Player wins!\")\n",
    "    else:\n",
    "        print(\"Computer wins!\")\n",
    "\n",
    "# Display options\n",
    "print(\"Enter one option:\")\n",
    "options = [\"1: Rock\", \"2: Paper\", \"3: Scissors\"]\n",
    "for option in options:\n",
    "    print(option)\n",
    "\n",
    "try:\n",
    "    my_input = int(input(\"Enter your choice (1, 2, 3): \"))\n",
    "    rock_paper_scissor(my_input)\n",
    "except ValueError:\n",
    "    print(\"Invalid input! Please. input must number \")\n"
   ]
  },
  {
   "cell_type": "code",
   "execution_count": null,
   "metadata": {},
   "outputs": [],
   "source": []
  }
 ],
 "metadata": {
  "kernelspec": {
   "display_name": "Python 3",
   "language": "python",
   "name": "python3"
  },
  "language_info": {
   "codemirror_mode": {
    "name": "ipython",
    "version": 3
   },
   "file_extension": ".py",
   "mimetype": "text/x-python",
   "name": "python",
   "nbconvert_exporter": "python",
   "pygments_lexer": "ipython3",
   "version": "3.13.1"
  }
 },
 "nbformat": 4,
 "nbformat_minor": 2
}
