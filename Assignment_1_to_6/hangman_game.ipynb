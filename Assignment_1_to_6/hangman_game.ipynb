{
 "cells": [
  {
   "cell_type": "markdown",
   "metadata": {},
   "source": [
    "## Hangman Python Project"
   ]
  },
  {
   "cell_type": "code",
   "execution_count": 5,
   "metadata": {},
   "outputs": [
    {
     "name": "stdout",
     "output_type": "stream",
     "text": [
      " ++++ Welcome to the Hangman game : ++++ \n",
      "_ _ _ _ _ _ \n",
      "correct guess ! \n",
      "c _ _ _ _ _\n",
      "correct guess ! \n",
      "c o _ _ _ _\n",
      "correct guess ! \n",
      "c o l l _ _\n",
      "correct guess ! \n",
      "c o l l a _\n",
      "correct guess ! \n",
      "c o l l a b\n",
      "Congratulation ! the correct word is : collab\n"
     ]
    }
   ],
   "source": [
    "import random \n",
    "\n",
    "words = [\"python\",\"enum\",\"collab\",\"vscode\",\"game\"]\n",
    "\n",
    "word = random.choice(words)\n",
    "guessed_letters = []\n",
    "attempts = 6 \n",
    "\n",
    "print(\" ++++ Welcome to the Hangman game : ++++ \")\n",
    "print(\"_ \" * len(word))\n",
    "\n",
    "while attempts > 0:\n",
    "    guess = input(\"\\n guess the letter : \").lower()\n",
    "    \n",
    "    if len(guess) != 1 or not guess.isalpha():\n",
    "        print(\"Write one alphabet only \")\n",
    "        continue\n",
    "    if guess in guessed_letters:\n",
    "        print(\"this letter is already guess choose another \")\n",
    "        continue\n",
    "    guessed_letters.append(guess)\n",
    "    if guess in word :\n",
    "        print(\"correct guess ! \")\n",
    "    else:\n",
    "        attempts -= 1 \n",
    "        print(f\"Wrong {attempts} attempts \")\n",
    "        \n",
    "    displayed_words = \"\"  # Initialize an empty string\n",
    "\n",
    "    for letter in word:  # Loop through each letter in the chosen word\n",
    "         if letter in guessed_letters:\n",
    "            displayed_words += letter + \" \"  # Add guessed letter to the displayed word\n",
    "         else:\n",
    "            displayed_words += \"_ \"  # Add underscore for unguessed letters\n",
    "\n",
    "    displayed_words = displayed_words.strip()  # Remove extra space at the end\n",
    "\n",
    "    print(displayed_words)\n",
    "    if \"_\" not in displayed_words:\n",
    "        print(f\"Congratulation ! the correct word is : {word}\")\n",
    "        break\n"
   ]
  },
  {
   "cell_type": "code",
   "execution_count": null,
   "metadata": {},
   "outputs": [],
   "source": []
  }
 ],
 "metadata": {
  "kernelspec": {
   "display_name": "Python 3",
   "language": "python",
   "name": "python3"
  },
  "language_info": {
   "codemirror_mode": {
    "name": "ipython",
    "version": 3
   },
   "file_extension": ".py",
   "mimetype": "text/x-python",
   "name": "python",
   "nbconvert_exporter": "python",
   "pygments_lexer": "ipython3",
   "version": "3.13.1"
  }
 },
 "nbformat": 4,
 "nbformat_minor": 2
}
