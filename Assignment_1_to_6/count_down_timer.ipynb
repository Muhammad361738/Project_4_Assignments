{
 "cells": [
  {
   "cell_type": "markdown",
   "metadata": {},
   "source": [
    "## Countdown Timer Python Project"
   ]
  },
  {
   "cell_type": "code",
   "execution_count": null,
   "metadata": {},
   "outputs": [
    {
     "name": "stdout",
     "output_type": "stream",
     "text": [
      " 0 : 10\n",
      " 0 :  9\n",
      " 0 :  8\n",
      " 0 :  7\n",
      " 0 :  6\n",
      " 0 :  5\n",
      " 0 :  4\n",
      " 0 :  3\n",
      " 0 :  2\n",
      " 0 :  1\n",
      "00:00 \n",
      " Tim's up !\n"
     ]
    }
   ],
   "source": [
    "import time \n",
    "\n",
    "def count_down_timer(seconds):\n",
    "    while seconds > 0  :\n",
    "        mins , sec = divmod(seconds,60)\n",
    "        time_format = '{:2d} : {:2d}'.format(mins,sec)\n",
    "        print(time_format,\"r\")\n",
    "        time.sleep(1)  # for  delay \n",
    "        seconds -= 1\n",
    "    print(\"00:00 \\n Tim's up !\")\n",
    "\n",
    "# user input for timer \n",
    "\n",
    "total_seconds = int(input(\"Enter the time in seconds for countdown : \"))\n",
    "\n",
    "count_down_timer(total_seconds)\n",
    "\n"
   ]
  },
  {
   "cell_type": "code",
   "execution_count": null,
   "metadata": {},
   "outputs": [],
   "source": []
  }
 ],
 "metadata": {
  "kernelspec": {
   "display_name": "Python 3",
   "language": "python",
   "name": "python3"
  },
  "language_info": {
   "codemirror_mode": {
    "name": "ipython",
    "version": 3
   },
   "file_extension": ".py",
   "mimetype": "text/x-python",
   "name": "python",
   "nbconvert_exporter": "python",
   "pygments_lexer": "ipython3",
   "version": "3.13.1"
  }
 },
 "nbformat": 4,
 "nbformat_minor": 2
}
