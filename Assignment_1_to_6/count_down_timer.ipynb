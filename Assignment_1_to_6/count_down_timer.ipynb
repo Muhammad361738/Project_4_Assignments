{
 "cells": [
  {
   "cell_type": "markdown",
   "metadata": {},
   "source": [
    "## Countdown Timer Python Project"
   ]
  },
  {
   "cell_type": "code",
   "execution_count": null,
   "metadata": {},
   "outputs": [
    {
     "name": "stdout",
     "output_type": "stream",
     "text": [
      " 0 : 10\n",
      " 0 :  9\n",
      " 0 :  8\n",
      " 0 :  7\n",
      " 0 :  6\n",
      " 0 :  5\n",
      " 0 :  4\n",
      " 0 :  3\n",
      " 0 :  2\n",
      " 0 :  1\n",
      "00:00 \n",
      " Tim's up !\n"
     ]
    }
   ],
   "source": [
    "import time \n",
    "\n",
    "def count_down_timer(seconds):\n",
    "    while seconds > 0  :\n",
    "        mins , sec = divmod(seconds,60)\n",
    "        time_format = '{:2d} : {:2d}'.format(mins,sec)\n",
    "        print(time_format,\"r\")\n",
    "        time.sleep(1)  # for  delay \n",
    "        seconds -= 1\n",
    "    print(\"00:00 \\n Tim's up !\")\n",
    "\n",
    "# user input for timer \n",
    "\n",
    "total_seconds = int(input(\"Enter the time in seconds for countdown : \"))\n",
    "\n",
    "count_down_timer(total_seconds)\n",
    "\n"
   ]
  },
  {
   "cell_type": "markdown",
   "metadata": {},
   "source": [
    "## 04_lift_off"
   ]
  },
  {
   "cell_type": "code",
   "execution_count": 7,
   "metadata": {},
   "outputs": [
    {
     "name": "stdout",
     "output_type": "stream",
     "text": [
      "Lift time off in 10 sec\n",
      "Lift time off in 9 sec\n",
      "Lift time off in 8 sec\n",
      "Lift time off in 7 sec\n",
      "Lift time off in 6 sec\n",
      "Lift time off in 5 sec\n",
      "Lift time off in 4 sec\n",
      "Lift time off in 3 sec\n",
      "Lift time off in 2 sec\n",
      "Lift time off in 1 sec\n",
      "Liftoff!\n"
     ]
    }
   ],
   "source": [
    "# for i in range(10, 0, -1):  \n",
    "#     print(i, end=\" \")\n",
    "# print(\"Liftoff!\")  \n",
    "\n",
    "import time\n",
    "time_off = 0\n",
    "lift_time = 10\n",
    "while lift_time > time_off:\n",
    "    print(f\"Lift time off in {lift_time} sec\")\n",
    "    time.sleep(1)\n",
    "    lift_time -= 1\n",
    "print(\"Liftoff!\")  \n"
   ]
  },
  {
   "cell_type": "markdown",
   "metadata": {},
   "source": [
    "## 05_double_it"
   ]
  },
  {
   "cell_type": "code",
   "execution_count": 11,
   "metadata": {},
   "outputs": [
    {
     "name": "stdout",
     "output_type": "stream",
     "text": [
      "double the privious number :  3\n",
      "double the privious number :  6\n",
      "double the privious number :  12\n",
      "double the privious number :  24\n",
      "double the privious number :  48\n",
      "double the privious number :  96\n"
     ]
    }
   ],
   "source": [
    "max_num = 150\n",
    "\n",
    "user_num = int(input(\"Enter the number : \"))\n",
    "\n",
    "while user_num < max_num:\n",
    "    print(\"double the privious number : \",user_num )\n",
    "    user_num *=2"
   ]
  },
  {
   "cell_type": "code",
   "execution_count": null,
   "metadata": {},
   "outputs": [],
   "source": []
  }
 ],
 "metadata": {
  "kernelspec": {
   "display_name": "Python 3",
   "language": "python",
   "name": "python3"
  },
  "language_info": {
   "codemirror_mode": {
    "name": "ipython",
    "version": 3
   },
   "file_extension": ".py",
   "mimetype": "text/x-python",
   "name": "python",
   "nbconvert_exporter": "python",
   "pygments_lexer": "ipython3",
   "version": "3.13.1"
  }
 },
 "nbformat": 4,
 "nbformat_minor": 2
}
