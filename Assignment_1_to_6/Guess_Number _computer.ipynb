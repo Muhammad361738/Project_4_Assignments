{
 "cells": [
  {
   "cell_type": "markdown",
   "metadata": {},
   "source": [
    "## Guess the Number Game Python Project (computer)"
   ]
  },
  {
   "cell_type": "code",
   "execution_count": null,
   "metadata": {},
   "outputs": [
    {
     "name": "stdout",
     "output_type": "stream",
     "text": [
      "Welcome to the Number Guessing Game!\n",
      "Think of a number between 1 and 50, and I'll try to guess it.\n",
      "\n",
      "Is your number 39?\n",
      "\n",
      "Is your number 42?\n",
      "\n",
      "Is your number 40?\n",
      "🎉 Yay! I guessed your number in 3 tries!\n"
     ]
    }
   ],
   "source": [
    "import random  \n",
    "\n",
    "# Welcome message  \n",
    "print(\"Welcome to the Number Guessing Game!\")\n",
    "print(\"Think of a number between 1 and 50, and I'll try to guess it.\")\n",
    "\n",
    "def computer_guesses():\n",
    "    low, high = 1, 50  # The range for guessing\n",
    "    attempts = 7  # Maximum attempts\n",
    "\n",
    "    while attempts > 0:\n",
    "        guess = random.randint(low, high)  # Computer makes a guess\n",
    "        print(f\"\\nIs your number {guess}?\")\n",
    "\n",
    "        response = input(\"Enter 'high', 'low', or 'correct': \").lower()\n",
    "\n",
    "        if response == \"correct\":\n",
    "            print(f\" Yay! I guessed your number in {8 - attempts} tries!\")\n",
    "            return  # Computer wins\n",
    "        elif response == \"high\":\n",
    "            high = guess - 1  # Reduce the range\n",
    "        elif response == \"low\":\n",
    "            low = guess + 1  # Increase the range\n",
    "        else:\n",
    "            print(\" Invalid input! Please type 'high', 'low', or 'correct'.\")\n",
    "            continue\n",
    "        \n",
    "        attempts -= 1\n",
    "\n",
    "    print(\"\\n❌ I couldn't guess your number in time. You win!\")\n",
    "\n",
    "# Run the game  \n",
    "computer_guesses()\n"
   ]
  },
  {
   "cell_type": "code",
   "execution_count": null,
   "metadata": {},
   "outputs": [],
   "source": []
  }
 ],
 "metadata": {
  "kernelspec": {
   "display_name": "Python 3",
   "language": "python",
   "name": "python3"
  },
  "language_info": {
   "codemirror_mode": {
    "name": "ipython",
    "version": 3
   },
   "file_extension": ".py",
   "mimetype": "text/x-python",
   "name": "python",
   "nbconvert_exporter": "python",
   "pygments_lexer": "ipython3",
   "version": "3.13.1"
  }
 },
 "nbformat": 4,
 "nbformat_minor": 2
}
