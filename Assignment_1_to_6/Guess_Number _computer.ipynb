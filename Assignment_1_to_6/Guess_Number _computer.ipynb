{
 "cells": [
  {
   "cell_type": "markdown",
   "metadata": {},
   "source": [
    "## Guess the Number Game Python Project (computer)"
   ]
  },
  {
   "cell_type": "code",
   "execution_count": null,
   "metadata": {},
   "outputs": [
    {
     "name": "stdout",
     "output_type": "stream",
     "text": [
      "Welcome to the Number Guessing Game!\n",
      "I am thinking of a number between 1 and 50.\n",
      "\n",
      "You have 7 guesses left.\n",
      " Too high! Try a lower number.\n",
      "\n",
      "You have 6 guesses left.\n",
      " Too high! Try a lower number.\n",
      "\n",
      "You have 5 guesses left.\n",
      " Too low! Try a higher number.\n",
      "\n",
      "You have 4 guesses left.\n",
      " Too low! Try a higher number.\n",
      "\n",
      "You have 3 guesses left.\n",
      " Congratulations! You guessed the correct number in 5 tries!\n"
     ]
    }
   ],
   "source": [
    "import random  \n",
    "    # Welcome message  \n",
    "print(\"Welcome to the Number Guessing Game!\")\n",
    "print(\"I am thinking of a number between 1 and 50.\")\n",
    "\n",
    "\n",
    "def guess_the_number():\n",
    "    \"\"\"Project 02: Guess the Number Game by Computer\"\"\"\n",
    "    number = random.randint(1, 50)\n",
    "    guess_left = 7\n",
    "\n",
    "\n",
    "    while guess_left > 0:\n",
    "        print(f\"\\nYou have {guess_left} guesses left.\")\n",
    "\n",
    "        try:\n",
    "            guess = int(input(\"Take a guess: \"))\n",
    "            if guess < 1 or guess > 50:\n",
    "                print(\" Please enter a number between 1 and 50.\")\n",
    "                continue\n",
    "        except ValueError:\n",
    "            print(\" Invalid input! Please enter a valid number.\")\n",
    "            continue\n",
    "\n",
    "        # Check the guessed number  \n",
    "        if guess < number:\n",
    "            print(\" Too low! Try a higher number.\")\n",
    "        elif guess > number:\n",
    "            print(\" Too high! Try a lower number.\")\n",
    "        else:\n",
    "            print(f\" Congratulations! You guessed the correct number in {8 - guess_left} tries!\")\n",
    "            return  # Exit the function  \n",
    "\n",
    "        guess_left -= 1  # Reduce attempts  \n",
    "\n",
    "    # Out of guesses  \n",
    "    print(f\"\\n You ran out of guesses. The number was {number}. Better luck next time!\")\n",
    "\n",
    "# Run the game  \n",
    "guess_the_number()\n"
   ]
  },
  {
   "cell_type": "code",
   "execution_count": null,
   "metadata": {},
   "outputs": [],
   "source": []
  }
 ],
 "metadata": {
  "kernelspec": {
   "display_name": "Python 3",
   "language": "python",
   "name": "python3"
  },
  "language_info": {
   "codemirror_mode": {
    "name": "ipython",
    "version": 3
   },
   "file_extension": ".py",
   "mimetype": "text/x-python",
   "name": "python",
   "nbconvert_exporter": "python",
   "pygments_lexer": "ipython3",
   "version": "3.13.1"
  }
 },
 "nbformat": 4,
 "nbformat_minor": 2
}
